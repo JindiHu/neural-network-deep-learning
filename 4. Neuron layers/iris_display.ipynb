{
 "cells": [
  {
   "cell_type": "code",
   "execution_count": 1,
   "metadata": {},
   "outputs": [],
   "source": [
    "from sklearn import datasets\n",
    "from sklearn.manifold import TSNE\n",
    "\n",
    "import numpy as np\n",
    "import pylab as plt\n",
    "\n",
    "import os\n",
    "if not os.path.isdir('figures'):\n",
    "    os.makedirs('figures')\n",
    "    \n",
    "seed = 10\n",
    "np.random.seed(seed)"
   ]
  },
  {
   "cell_type": "code",
   "execution_count": 2,
   "metadata": {},
   "outputs": [
    {
     "name": "stdout",
     "output_type": "stream",
     "text": [
      "no of data: 150\n",
      "[[ 0.45666667 -0.754       0.64133333  0.10133333]\n",
      " [ 0.55666667 -0.354       1.54133333  0.70133333]\n",
      " [-0.44333333  0.646      -2.25866667 -0.99866667]\n",
      " [ 0.25666667 -0.054       0.84133333  0.20133333]\n",
      " [-0.84333333  0.246      -2.35866667 -0.99866667]\n",
      " [-0.84333333 -1.054      -0.25866667 -0.19866667]\n",
      " [ 0.45666667 -0.554       1.14133333  0.30133333]\n",
      " [-0.04333333 -0.354       0.34133333 -0.19866667]\n",
      " [-0.74333333  0.346      -2.25866667 -0.99866667]\n",
      " [-0.14333333 -0.254       0.74133333  0.10133333]]\n",
      "[1 2 0 1 0 1 1 1 0 1]\n"
     ]
    }
   ],
   "source": [
    "iris = datasets.load_iris()\n",
    "iris.data -= np.mean(iris.data, axis=0)\n",
    "\n",
    "X, Y = iris.data, iris.target\n",
    "\n",
    "no_data = len(X)\n",
    "idx = np.arange(no_data)\n",
    "np.random.shuffle(idx)\n",
    "X, Y = X[idx], Y[idx]\n",
    "\n",
    "print('no of data: %d'%no_data)\n",
    "print(X[:10])\n",
    "print(Y[:10])"
   ]
  },
  {
   "cell_type": "code",
   "execution_count": 3,
   "metadata": {},
   "outputs": [
    {
     "name": "stdout",
     "output_type": "stream",
     "text": [
      "(150, 2)\n"
     ]
    },
    {
     "data": {
      "image/png": "[encoded data removed]",
      "text/plain": [
       "<matplotlib.figure.Figure at 0x10ab77080>"
      ]
     },
     "metadata": {},
     "output_type": "display_data"
    }
   ],
   "source": [
    "XX = TSNE().fit_transform(X)\n",
    "\n",
    "print(XX.shape)\n",
    "\n",
    "plt.figure(2)\n",
    "plt.plot(XX[Y==0,0], XX[Y==0,1], 'b+', label='Setosa')\n",
    "plt.plot(XX[Y==1,0], XX[Y==1,1], 'r.', label='Versicolor')\n",
    "plt.plot(XX[Y==2,0], XX[Y==2,1], 'gx', label='Virginica')\n",
    "plt.xlabel('$y_1$')\n",
    "plt.ylabel('$y_2$')\n",
    "plt.legend()\n",
    "plt.savefig('./figures/iris.png')"
   ]
  }
 ],
 "metadata": {
  "kernelspec": {
   "display_name": "Python 3",
   "language": "python",
   "name": "python3"
  },
  "language_info": {
   "codemirror_mode": {
    "name": "ipython",
    "version": 3
   },
   "file_extension": ".py",
   "mimetype": "text/x-python",
   "name": "python",
   "nbconvert_exporter": "python",
   "pygments_lexer": "ipython3",
   "version": "3.7.7"
  }
 },
 "nbformat": 4,
 "nbformat_minor": 2
}
