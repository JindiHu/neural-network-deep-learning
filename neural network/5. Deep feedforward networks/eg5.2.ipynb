{
 "cells": [
  {
   "cell_type": "markdown",
   "metadata": {},
   "source": [
    "# Chapter 5, example 2"
   ]
  },
  {
   "cell_type": "code",
   "execution_count": 1,
   "metadata": {},
   "outputs": [],
   "source": [
    "import tensorflow as tf\n",
    "import numpy as np\n",
    "import pylab as plt\n",
    "\n",
    "import os\n",
    "if not os.path.isdir('figures'):\n",
    "    os.makedirs('figures')"
   ]
  },
  {
   "cell_type": "code",
   "execution_count": 2,
   "metadata": {},
   "outputs": [],
   "source": [
    "num_features = 2\n",
    "num_labels = 2\n",
    "num_hidden = 3\n",
    "\n",
    "num_data = 8\n",
    "\n",
    "lr = 0.05\n",
    "num_epochs = 1000"
   ]
  },
  {
   "cell_type": "code",
   "execution_count": 3,
   "metadata": {},
   "outputs": [
    {
     "name": "stdout",
     "output_type": "stream",
     "text": [
      "x:[[0.77132064 0.02075195]\n",
      " [0.63364823 0.74880388]\n",
      " [0.49850701 0.22479665]\n",
      " [0.19806286 0.76053071]\n",
      " [0.16911084 0.08833981]\n",
      " [0.68535982 0.95339335]\n",
      " [0.00394827 0.51219226]\n",
      " [0.81262096 0.61252607]]\n",
      "y:[[ 0.44351063 -0.41624786]\n",
      " [ 0.83554825  0.42915157]\n",
      " [ 0.08508874 -0.7156599 ]\n",
      " [-0.25331848  0.34826723]\n",
      " [-0.11633365 -0.13197201]\n",
      " [ 0.23553396  0.02627649]\n",
      " [ 0.30079436  0.20207791]\n",
      " [ 0.61044639  0.0432943 ]]\n"
     ]
    }
   ],
   "source": [
    "SEED = 10\n",
    "np.random.seed(SEED)\n",
    "\n",
    "# generate training data\n",
    "X = np.random.rand(num_data, num_features)\n",
    "Y = 2*np.random.rand(num_data, num_labels) - 1\n",
    "\n",
    "print('x:{}'.format(X))\n",
    "print('y:{}'.format(Y))"
   ]
  },
  {
   "cell_type": "code",
   "execution_count": 4,
   "metadata": {},
   "outputs": [],
   "source": [
    "# initialization routines for bias and weights\n",
    "def init_bias(n = 1):\n",
    "    return(tf.Variable(np.zeros(n), dtype=tf.float64))\n",
    "\n",
    "def init_weights(n_in=1, n_out=1, logistic=True):\n",
    "    W_values = np.asarray(np.random.uniform(low=-np.sqrt(6. / (n_in + n_out)),\n",
    "                                            high=np.sqrt(6. / (n_in + n_out)),\n",
    "                                            size=(n_in, n_out)))\n",
    "    if logistic == True:\n",
    "        W_values *= 4\n",
    "    return(tf.Variable(W_values, dtype=tf.float64))"
   ]
  },
  {
   "cell_type": "code",
   "execution_count": 5,
   "metadata": {},
   "outputs": [],
   "source": [
    "class Three_Layer_DNN():\n",
    "  def __init__(self, num_features, num_hidden, num_labels):\n",
    "    self.V = init_weights(num_hidden, num_labels)\n",
    "    self.c = init_bias(num_labels)\n",
    "    self.W = init_weights(num_features, num_hidden)\n",
    "    self.b = init_bias(num_hidden)\n",
    "\n",
    "  def __call__(self, x):\n",
    "    z = tf.matmul(x, self.W) + self.b\n",
    "    h = tf.nn.sigmoid(z)\n",
    "    y = tf.matmul(h, self.V) + self.c\n",
    "    return z, h, y"
   ]
  },
  {
   "cell_type": "code",
   "execution_count": 6,
   "metadata": {},
   "outputs": [],
   "source": [
    "def loss(targets, outputs):\n",
    "    return tf.reduce_mean(tf.reduce_sum(tf.square(targets - outputs),axis=1))"
   ]
  },
  {
   "cell_type": "code",
   "execution_count": 7,
   "metadata": {},
   "outputs": [],
   "source": [
    "def train(model, inputs, targets, learning_rate):\n",
    "    z, h, y = model(inputs)\n",
    "    grad_u = -(targets - y)\n",
    "    grad_V = tf.matmul(tf.transpose(h), grad_u)\n",
    "    grad_c = tf.reduce_sum(grad_u, axis=0)\n",
    "\n",
    "    dh = h*(1-h)\n",
    "    grad_z = tf.matmul(grad_u, tf.transpose(model.V))*dh\n",
    "    grad_W = tf.matmul(tf.transpose(inputs), grad_z)\n",
    "    grad_b = tf.reduce_sum(grad_z, axis=0)\n",
    "\n",
    "    model.W.assign_sub(learning_rate*grad_W)\n",
    "    model.b.assign_sub(learning_rate*grad_b)\n",
    "    model.V.assign_sub(learning_rate*grad_V)\n",
    "    model.c.assign_sub(learning_rate*grad_c)\n",
    "    \n",
    "    return grad_u, dh, grad_z, grad_V, grad_c, grad_W, grad_b\n",
    "  "
   ]
  },
  {
   "cell_type": "code",
   "execution_count": 8,
   "metadata": {},
   "outputs": [
    {
     "name": "stdout",
     "output_type": "stream",
     "text": [
      "W = [[-3.97080171  1.10672512  0.41702418]\n",
      " [ 2.79809104 -2.63829158  3.12727936]], b = [0. 0. 0.]\n",
      "V = [[ 3.58121936 -1.58413555]\n",
      " [-3.58903444 -1.7465772 ]\n",
      " [-3.38287156  2.88041883]], c = [0. 0.]\n"
     ]
    }
   ],
   "source": [
    "model = Three_Layer_DNN(num_features, num_hidden, num_labels)\n",
    "\n",
    "print('W = {}, b = {}'.format(model.W.numpy(), model.b.numpy()))\n",
    "print('V = {}, c = {}'.format(model.V.numpy(), model.c.numpy()))"
   ]
  },
  {
   "cell_type": "code",
   "execution_count": 9,
   "metadata": {},
   "outputs": [
    {
     "name": "stdout",
     "output_type": "stream",
     "text": [
      "iter: 1\n",
      "z: [[-3.00469548  0.79889024  0.3865565 ]\n",
      " [-0.42087006 -1.27428856  2.60596556]\n",
      " [-1.35047102 -0.04136886  0.91089139]\n",
      " [ 1.34156581 -1.78730062  2.46098901]\n",
      " [-0.42432276 -0.04590698  0.34678659]\n",
      " [-0.05374656 -1.75682471  3.26733895]\n",
      " [ 1.4174828  -1.34694289  1.60341482]\n",
      " [-1.512853   -0.71667433  2.25442272]]\n",
      "h: [[0.0472142  0.68973704 0.59545347]\n",
      " [0.39630857 0.21852401 0.93124453]\n",
      " [0.20579338 0.48965926 0.71318253]\n",
      " [0.79274732 0.14340399 0.92136135]\n",
      " [0.39548282 0.48852527 0.58583812]\n",
      " [0.48656659 0.14718847 0.96329119]\n",
      " [0.8049435  0.20637062 0.83249511]\n",
      " [0.18051636 0.32812574 0.90503135]]\n",
      "y: [[-4.32074822  0.43568272]\n",
      " [-2.51530288  1.67289873]\n",
      " [-3.43301763  0.8730321 ]\n",
      " [-0.79252693  1.14762123]\n",
      " [-2.31883841  0.20771366]\n",
      " [-2.04445315  1.74681862]\n",
      " [-0.67421608  0.76235277]\n",
      " [-3.59279069  1.74781001]]\n",
      "grad_u: [[-4.76425886  0.85193058]\n",
      " [-3.35085113  1.24374716]\n",
      " [-3.51810636  1.588692  ]\n",
      " [-0.53920845  0.799354  ]\n",
      " [-2.20250476  0.33968567]\n",
      " [-2.27998711  1.72054213]\n",
      " [-0.97501044  0.56027486]\n",
      " [-4.20323708  1.70451571]]\n",
      "dh: [[0.04498502 0.21399985 0.24088863]\n",
      " [0.23924809 0.17077126 0.06402816]\n",
      " [0.16344246 0.24989307 0.20455321]\n",
      " [0.16429901 0.12283929 0.07245461]\n",
      " [0.23907616 0.24986833 0.24263182]\n",
      " [0.24981954 0.12552402 0.03536127]\n",
      " [0.15700946 0.16378179 0.139447  ]\n",
      " [0.14793021 0.22045924 0.08594961]]\n",
      "grad_z:[[-0.82823847  3.34077883  4.47349289]\n",
      " [-3.34239077  1.6827834   0.9551728 ]\n",
      " [-2.47056589  2.46190446  3.37050509]\n",
      " [-0.52531466  0.06622318  0.29898738]\n",
      " [-2.01439853  1.82693184  2.04519884]\n",
      " [-2.72071118  0.64994991  0.44798439]\n",
      " [-0.68758803  0.41285831  0.68498617]\n",
      " [-2.62618984  2.66942944  1.64410687]]\n",
      "grad_V:[[ -6.22837045   3.22393966]\n",
      " [ -8.81029604   2.84605374]\n",
      " [-17.06556957   7.40048915]]\n",
      "grad_c:[-21.83316419   8.80874212]\n",
      "grad_W:[[-8.43451162  7.80876531  7.78681569]\n",
      " [-8.20752214  4.56080173  3.75881887]]\n",
      "grad_b:[-15.21539738  13.11085937  13.92043442]\n",
      "cost: 10.873991840519167\n",
      "W = [[-3.54907613  0.71628685  0.02768339]\n",
      " [ 3.20846714 -2.86633166  2.93933842]], b = [ 0.76076987 -0.65554297 -0.69602172]\n",
      "V = [[ 3.89263788 -1.74533253]\n",
      " [-3.14851964 -1.88887988]\n",
      " [-2.52959308  2.51039437]], c = [ 1.09165821 -0.44043711]\n",
      "epoch: 0, m.s.e: 10.873991840519167\n",
      "epoch: 100, m.s.e: 0.12042543642193687\n",
      "epoch: 200, m.s.e: 0.1123998606447792\n",
      "epoch: 300, m.s.e: 0.11032431218407296\n",
      "epoch: 400, m.s.e: 0.10956068762747473\n",
      "epoch: 500, m.s.e: 0.10914598403553012\n",
      "epoch: 600, m.s.e: 0.10881429924194368\n",
      "epoch: 700, m.s.e: 0.10848934701669892\n",
      "epoch: 800, m.s.e: 0.10814737186073971\n",
      "epoch: 900, m.s.e: 0.10777923921375808\n"
     ]
    }
   ],
   "source": [
    "err = []\n",
    "for epoch in range(num_epochs):\n",
    "\n",
    "    z_, h_, y_ = model(X)\n",
    "    cost_ = loss(Y, y_)\n",
    "    grad_u_, dh_, grad_z_, grad_V_, grad_c_, grad_W_, grad_b_ = train(model, X, Y, lr)\n",
    "    \n",
    "    if epoch == 0:\n",
    "        print('iter: {}'.format(epoch+1))\n",
    "        print('z: {}'.format(z_))\n",
    "        print('h: {}'.format(h_))\n",
    "        print('y: {}'.format(y_))\n",
    "        print('grad_u: {}'.format(grad_u_))\n",
    "        print('dh: {}'.format(dh_))\n",
    "        print('grad_z:{}'.format(grad_z_))\n",
    "        print('grad_V:{}'.format(grad_V_))\n",
    "        print('grad_c:{}'.format(grad_c_))\n",
    "        print('grad_W:{}'.format(grad_W_))\n",
    "        print('grad_b:{}'.format(grad_b_))\n",
    "        print('cost: {}'.format(cost_))\n",
    "        print('W = {}, b = {}'.format(model.W.numpy(), model.b.numpy()))\n",
    "        print('V = {}, c = {}'.format(model.V.numpy(), model.c.numpy()))\n",
    "        \n",
    "    err.append(cost_)\n",
    "    if not epoch%100:\n",
    "        print('epoch: {}, m.s.e: {}'.format(epoch,err[epoch]))"
   ]
  },
  {
   "cell_type": "code",
   "execution_count": 10,
   "metadata": {},
   "outputs": [
    {
     "name": "stdout",
     "output_type": "stream",
     "text": [
      "W = [[-2.04060452 -0.5157363  -1.8765965 ]\n",
      " [ 3.5527165  -2.59521722  2.415937  ]], b = [ 0.21522817 -0.93143254  0.15014535]\n",
      "V = [[ 2.1388451  -1.13506266]\n",
      " [-2.92533251 -1.78251379]\n",
      " [-3.59438375  2.28171372]], c = [ 1.25162402 -0.42972376]\n",
      "m.s.e: 0.10737983651398153\n"
     ]
    }
   ],
   "source": [
    "print('W = {}, b = {}'.format(model.W.numpy(), model.b.numpy()))\n",
    "print('V = {}, c = {}'.format(model.V.numpy(), model.c.numpy()))\n",
    "\n",
    "_, _, y_ = model(X)\n",
    "mse = loss(Y, y_)\n",
    "print('m.s.e: {}'.format(mse))"
   ]
  },
  {
   "cell_type": "code",
   "execution_count": 11,
   "metadata": {},
   "outputs": [
    {
     "data": {
      "image/png": "[encoded data removed]",
      "text/plain": [
       "<Figure size 432x288 with 1 Axes>"
      ]
     },
     "metadata": {
      "needs_background": "light"
     },
     "output_type": "display_data"
    }
   ],
   "source": [
    "# plot learning curves\n",
    "plt.figure(1)\n",
    "plt.plot(range(num_epochs), err)\n",
    "plt.xlabel('iterations')\n",
    "plt.ylabel('mean square error')\n",
    "plt.title('GD learning')\n",
    "plt.savefig('figures/5.2_1.png')"
   ]
  },
  {
   "cell_type": "code",
   "execution_count": 12,
   "metadata": {},
   "outputs": [
    {
     "data": {
      "image/png": "[encoded data removed]",
      "text/plain": [
       "<Figure size 432x288 with 1 Axes>"
      ]
     },
     "metadata": {
      "needs_background": "light"
     },
     "output_type": "display_data"
    }
   ],
   "source": [
    "# plot trained and predicted points\n",
    "_, _, y_ = model(X)\n",
    "    \n",
    "plt.figure(2)\n",
    "plot_targets = plt.plot(Y[:,0], Y[:,1], 'b^', label='targeted')\n",
    "plot_pred = plt.plot(y_[:,0], y_[:,1], 'ro', label='predicted')\n",
    "plt.xlabel('$y_1$')\n",
    "plt.ylabel('$y_2$')\n",
    "plt.title('targets and predicted outputs')\n",
    "plt.legend()\n",
    "plt.savefig('./figures/5.2_2.png')"
   ]
  },
  {
   "cell_type": "code",
   "execution_count": null,
   "metadata": {},
   "outputs": [],
   "source": []
  }
 ],
 "metadata": {
  "kernelspec": {
   "display_name": "Python 3",
   "language": "python",
   "name": "python3"
  },
  "language_info": {
   "codemirror_mode": {
    "name": "ipython",
    "version": 3
   },
   "file_extension": ".py",
   "mimetype": "text/x-python",
   "name": "python",
   "nbconvert_exporter": "python",
   "pygments_lexer": "ipython3",
   "version": "3.7.7"
  }
 },
 "nbformat": 4,
 "nbformat_minor": 4
}
