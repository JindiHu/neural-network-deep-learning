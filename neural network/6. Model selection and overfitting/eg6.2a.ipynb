{
 "cells": [
  {
   "cell_type": "markdown",
   "metadata": {},
   "source": [
    "# Chapter 6, Example 2a"
   ]
  },
  {
   "cell_type": "code",
   "execution_count": 1,
   "metadata": {},
   "outputs": [],
   "source": [
    "import tensorflow as tf\n",
    "from tensorflow.keras import Sequential\n",
    "from tensorflow.keras.layers import Dense\n",
    "\n",
    "from sklearn import datasets\n",
    "\n",
    "# Helper libraries\n",
    "import numpy as np\n",
    "import matplotlib.pyplot as plt\n",
    "\n",
    "import os\n",
    "if not os.path.isdir('figures'):\n",
    "    os.makedirs('figures')"
   ]
  },
  {
   "cell_type": "code",
   "execution_count": 2,
   "metadata": {},
   "outputs": [],
   "source": [
    "no_epochs = 1000\n",
    "\n",
    "no_labels = 3\n",
    "no_features = 4\n",
    "hidden_units = 5\n",
    "\n",
    "no_folds = 3\n",
    "\n",
    "seed = 10\n",
    "tf.random.set_seed(seed)\n",
    "np.random.seed(seed)"
   ]
  },
  {
   "cell_type": "code",
   "execution_count": 3,
   "metadata": {},
   "outputs": [],
   "source": [
    "# input data\n",
    "iris = datasets.load_iris()\n",
    "iris.data -= np.mean(iris.data, axis=0)\n",
    "\n",
    "X = iris.data\n",
    "Y = iris.target\n",
    "no_data = len(iris.data)"
   ]
  },
  {
   "cell_type": "code",
   "execution_count": 4,
   "metadata": {},
   "outputs": [
    {
     "name": "stdout",
     "output_type": "stream",
     "text": [
      "50\n",
      "fold 0 test accuracy 0.98\n",
      "fold 1 test accuracy 0.98\n",
      "fold 2 test accuracy 0.96\n",
      "* mean accuracy = 0.973333 *\n"
     ]
    }
   ],
   "source": [
    "idx = np.arange(no_data)\n",
    "np.random.shuffle(idx)\n",
    "X, Y = X[idx], Y[idx]\n",
    "nf = no_data//no_folds\n",
    "\n",
    "print(nf)\n",
    "    \n",
    "acc = []\n",
    "for fold in range(no_folds):\n",
    "    start, end = fold*nf, (fold+1)*nf\n",
    "    x_test, y_test = X[start:end], Y[start:end]\n",
    "    x_train  = np.append(X[:start], X[end:], axis=0)\n",
    "    y_train = np.append(Y[:start], Y[end:], axis=0) \n",
    "    \n",
    "    model = Sequential([\n",
    "        Dense(hidden_units, activation='relu'),\n",
    "        Dense(no_labels, activation='softmax')])\n",
    "    \n",
    "    model.compile(optimizer='sgd', \n",
    "                  loss='sparse_categorical_crossentropy',\n",
    "                  metrics=['accuracy'])\n",
    "    \n",
    "    history = model.fit(x_train, y_train,\n",
    "                    epochs=no_epochs,\n",
    "                    verbose=0,\n",
    "                    use_multiprocessing=False,\n",
    "                    validation_data=(x_test, y_test))\n",
    "    \n",
    "    acc.append(history.history['val_accuracy'][no_epochs-1])\n",
    "    \n",
    "    print('fold %d test accuracy %g'%(fold, acc[fold]))\n",
    "    \n",
    "print('* mean accuracy = %g *'% np.mean(acc))"
   ]
  },
  {
   "cell_type": "code",
   "execution_count": 5,
   "metadata": {},
   "outputs": [
    {
     "data": {
      "image/png": "[encoded data removed]",
      "text/plain": [
       "<Figure size 432x288 with 1 Axes>"
      ]
     },
     "metadata": {
      "needs_background": "light"
     },
     "output_type": "display_data"
    }
   ],
   "source": [
    "plt.figure(1)\n",
    "plt.plot([1, 2, 3], acc, marker = 'x', linestyle = 'None')\n",
    "plt.xticks([1, 2, 3])\n",
    "plt.xlabel('fold')\n",
    "plt.ylabel('cross-validation accuracy')\n",
    "plt.savefig('./figures/6.2a_1.png')\n",
    "plt.show()"
   ]
  },
  {
   "cell_type": "code",
   "execution_count": null,
   "metadata": {},
   "outputs": [],
   "source": []
  }
 ],
 "metadata": {
  "kernelspec": {
   "display_name": "Python 3",
   "language": "python",
   "name": "python3"
  },
  "language_info": {
   "codemirror_mode": {
    "name": "ipython",
    "version": 3
   },
   "file_extension": ".py",
   "mimetype": "text/x-python",
   "name": "python",
   "nbconvert_exporter": "python",
   "pygments_lexer": "ipython3",
   "version": "3.7.7"
  }
 },
 "nbformat": 4,
 "nbformat_minor": 4
}
