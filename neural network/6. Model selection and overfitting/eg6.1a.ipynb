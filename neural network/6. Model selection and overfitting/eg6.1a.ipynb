{
 "cells": [
  {
   "cell_type": "markdown",
   "metadata": {},
   "source": [
    "# Chapter 6, Example 1a"
   ]
  },
  {
   "cell_type": "code",
   "execution_count": 1,
   "metadata": {},
   "outputs": [],
   "source": [
    "import tensorflow as tf\n",
    "from tensorflow.keras import Sequential\n",
    "from tensorflow.keras.layers import Dense\n",
    "\n",
    "from sklearn import datasets\n",
    "\n",
    "# Helper libraries\n",
    "import numpy as np\n",
    "import matplotlib.pyplot as plt\n",
    "\n",
    "import os\n",
    "if not os.path.isdir('figures'):\n",
    "    os.makedirs('figures')"
   ]
  },
  {
   "cell_type": "code",
   "execution_count": 2,
   "metadata": {},
   "outputs": [],
   "source": [
    "no_epochs = 1000\n",
    "\n",
    "no_labels = 3\n",
    "no_features = 4\n",
    "hidden_units = 5\n",
    "\n",
    "no_exps = 10\n",
    "\n",
    "seed = 10\n",
    "tf.random.set_seed(seed)\n",
    "np.random.seed(seed)"
   ]
  },
  {
   "cell_type": "code",
   "execution_count": 3,
   "metadata": {},
   "outputs": [],
   "source": [
    "# input data\n",
    "iris = datasets.load_iris()\n",
    "iris.data -= np.mean(iris.data, axis=0)\n",
    "\n",
    "X = iris.data\n",
    "Y = iris.target\n",
    "no_data = len(iris.data)"
   ]
  },
  {
   "cell_type": "code",
   "execution_count": 4,
   "metadata": {},
   "outputs": [
    {
     "name": "stdout",
     "output_type": "stream",
     "text": [
      "exp 0 test accuracy 0.96\n",
      "exp 1 test accuracy 0.96\n",
      "exp 2 test accuracy 0.94\n",
      "exp 3 test accuracy 0.94\n",
      "exp 4 test accuracy 1\n",
      "exp 5 test accuracy 0.98\n",
      "exp 6 test accuracy 0.98\n",
      "exp 7 test accuracy 1\n",
      "exp 8 test accuracy 0.98\n",
      "exp 9 test accuracy 0.96\n",
      "* mean accuracy = 0.97 *\n"
     ]
    }
   ],
   "source": [
    "acc = []\n",
    "for exp in range(no_exps):\n",
    "\n",
    "    idx = np.arange(no_data)\n",
    "    np.random.shuffle(idx)\n",
    "    XX, YY = X[idx], Y[idx]\n",
    "    x_train, y_train, x_test, y_test = XX[:100], YY[:100], XX[100:], YY[100:]\n",
    "\n",
    "    model = Sequential([\n",
    "        Dense(hidden_units, activation='relu'),\n",
    "        Dense(no_labels, activation='softmax')])\n",
    "    \n",
    "    model.compile(optimizer='sgd', \n",
    "                  loss='sparse_categorical_crossentropy',\n",
    "                  metrics=['accuracy'])\n",
    "    \n",
    "    history = model.fit(x_train, y_train,\n",
    "                    epochs=no_epochs,\n",
    "                    verbose=0,\n",
    "                    use_multiprocessing=False,\n",
    "                    validation_data=(x_test, y_test))\n",
    "    \n",
    "    acc.append(history.history['val_accuracy'][no_epochs-1])\n",
    "    \n",
    "    print('exp %d test accuracy %g'%(exp, acc[exp]))\n",
    "    \n",
    "print('* mean accuracy = %g *'% np.mean(acc))"
   ]
  },
  {
   "cell_type": "code",
   "execution_count": 5,
   "metadata": {},
   "outputs": [
    {
     "data": {
      "image/png": "[encoded data removed]",
      "text/plain": [
       "<Figure size 432x288 with 1 Axes>"
      ]
     },
     "metadata": {
      "needs_background": "light"
     },
     "output_type": "display_data"
    }
   ],
   "source": [
    "plt.figure(1)\n",
    "plt.plot(np.arange(no_exps)+1, acc, marker = 'x', linestyle = 'None')\n",
    "plt.xticks([2, 4, 6, 8, 10])\n",
    "plt.xlabel('experiment')\n",
    "plt.ylabel('test accuracy')\n",
    "plt.savefig('./figures/6.1a_1.png')"
   ]
  }
 ],
 "metadata": {
  "kernelspec": {
   "display_name": "Python 3",
   "language": "python",
   "name": "python3"
  },
  "language_info": {
   "codemirror_mode": {
    "name": "ipython",
    "version": 3
   },
   "file_extension": ".py",
   "mimetype": "text/x-python",
   "name": "python",
   "nbconvert_exporter": "python",
   "pygments_lexer": "ipython3",
   "version": "3.7.7"
  }
 },
 "nbformat": 4,
 "nbformat_minor": 4
}
