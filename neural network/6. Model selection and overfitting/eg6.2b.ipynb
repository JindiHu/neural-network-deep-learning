{
 "cells": [
  {
   "cell_type": "markdown",
   "metadata": {},
   "source": [
    "# Chapter 6, Example 2b"
   ]
  },
  {
   "cell_type": "code",
   "execution_count": 1,
   "metadata": {},
   "outputs": [],
   "source": [
    "import tensorflow as tf\n",
    "from tensorflow.keras import Sequential\n",
    "from tensorflow.keras.layers import Dense\n",
    "\n",
    "from sklearn import datasets\n",
    "\n",
    "# Helper libraries\n",
    "import numpy as np\n",
    "import matplotlib.pyplot as plt\n",
    "\n",
    "import os\n",
    "if not os.path.isdir('figures'):\n",
    "    os.makedirs('figures')"
   ]
  },
  {
   "cell_type": "code",
   "execution_count": 2,
   "metadata": {},
   "outputs": [],
   "source": [
    "no_epochs = 100\n",
    "\n",
    "no_labels = 3\n",
    "no_features = 4\n",
    "no_exps = 10\n",
    "no_folds = 3\n",
    "\n",
    "hidden_units = [2, 4, 6, 8, 10, 12]\n",
    "\n",
    "seed = 10\n",
    "tf.random.set_seed(seed)\n",
    "np.random.seed(seed)"
   ]
  },
  {
   "cell_type": "code",
   "execution_count": 3,
   "metadata": {},
   "outputs": [],
   "source": [
    "def train_exp(X, Y):\n",
    "\n",
    "    acc = []\n",
    "    for fold in range(no_folds):\n",
    "        start, end = fold*50, (fold+1)*50\n",
    "        x_test, y_test = X[start:end], Y[start:end]\n",
    "        x_train  = np.append(X[:start], X[end:], axis=0)\n",
    "        y_train = np.append(Y[:start], Y[end:], axis=0) \n",
    "\n",
    "        acc_ = []\n",
    "        for no_hidden in hidden_units:\n",
    "        \n",
    "            model = Sequential([\n",
    "                Dense(no_hidden, activation='relu'),\n",
    "                Dense(no_labels, activation='softmax')])\n",
    "    \n",
    "            model.compile(optimizer='sgd', \n",
    "                loss='sparse_categorical_crossentropy',\n",
    "                metrics=['accuracy'])\n",
    "    \n",
    "            history = model.fit(x_train, y_train,\n",
    "                epochs=no_epochs,\n",
    "                verbose=0,\n",
    "                use_multiprocessing=False,\n",
    "                validation_data=(x_test, y_test))\n",
    "    \n",
    "            acc_.append(history.history['val_accuracy'][no_epochs-1])\n",
    "        \n",
    "        acc.append(acc_)\n",
    "    \n",
    "    cv_acc = np.mean(np.array(acc), axis = 0)\n",
    "\n",
    "    return cv_acc"
   ]
  },
  {
   "cell_type": "code",
   "execution_count": 4,
   "metadata": {},
   "outputs": [
    {
     "name": "stdout",
     "output_type": "stream",
     "text": [
      "exp 0, cv acc [0.73333335 0.76666665 0.78       0.85999995 0.84666663 0.85999995]\n",
      "exp 1, cv acc [0.68       0.85999995 0.82       0.84666663 0.8333333  0.8666666 ]\n",
      "exp 2, cv acc [0.67333335 0.6666667  0.8533333  0.8333333  0.76000005 0.8666666 ]\n",
      "exp 3, cv acc [0.7        0.75333333 0.8733333  0.8733333  0.82666665 0.8333333 ]\n",
      "exp 4, cv acc [0.6266667  0.76       0.78000003 0.82666665 0.9066667  0.88000005]\n",
      "exp 5, cv acc [0.62       0.7933333  0.8333333  0.8866667  0.82       0.82666665]\n",
      "exp 6, cv acc [0.54       0.74       0.82666665 0.8        0.79333335 0.8       ]\n",
      "exp 7, cv acc [0.78000003 0.7066667  0.7866667  0.7866667  0.82666665 0.88000005]\n",
      "exp 8, cv acc [0.72       0.75333333 0.87999994 0.8066667  0.84666663 0.82666665]\n",
      "exp 9, cv acc [0.7133333  0.84       0.9066667  0.84       0.8533333  0.90000004]\n",
      "accuracy [0.6786667  0.76400006 0.834      0.8360001  0.83133334 0.854     ]\n",
      "* hidden units 12 *\n"
     ]
    }
   ],
   "source": [
    "# input data\n",
    "iris = datasets.load_iris()\n",
    "iris.data -= np.mean(iris.data, axis=0)\n",
    "\n",
    "X = iris.data\n",
    "Y = iris.target\n",
    "no_data = len(iris.data)\n",
    "\n",
    "acc = []\n",
    "for exp in range(no_exps):\n",
    "        \n",
    "    idx = np.arange(no_data)\n",
    "    np.random.shuffle(idx)\n",
    "\n",
    "    acc.append(train_exp(X[idx], Y[idx]))\n",
    "    print('exp %d, cv acc %s'%(exp, acc[exp]))\n",
    "\n",
    "mean_acc = np.mean(np.array(acc), axis = 0)\n",
    "print('accuracy %s'%(mean_acc))\n",
    "print('* hidden units %d *'%hidden_units[np.argmax(mean_acc)])"
   ]
  },
  {
   "cell_type": "code",
   "execution_count": 5,
   "metadata": {},
   "outputs": [
    {
     "data": {
      "image/png": "[encoded data removed]",
      "text/plain": [
       "<Figure size 432x288 with 1 Axes>"
      ]
     },
     "metadata": {
      "needs_background": "light"
     },
     "output_type": "display_data"
    }
   ],
   "source": [
    "plt.figure(1)\n",
    "plt.plot(hidden_units, mean_acc, marker = 'x', linestyle = 'None')\n",
    "plt.title('mean cross-validation accuracy')\n",
    "plt.xlabel('number of hidden units')\n",
    "plt.ylabel('mean CV accuracy')\n",
    "plt.savefig('./figures/6.2b_1.png')"
   ]
  }
 ],
 "metadata": {
  "kernelspec": {
   "display_name": "Python 3",
   "language": "python",
   "name": "python3"
  },
  "language_info": {
   "codemirror_mode": {
    "name": "ipython",
    "version": 3
   },
   "file_extension": ".py",
   "mimetype": "text/x-python",
   "name": "python",
   "nbconvert_exporter": "python",
   "pygments_lexer": "ipython3",
   "version": "3.7.7"
  }
 },
 "nbformat": 4,
 "nbformat_minor": 4
}
