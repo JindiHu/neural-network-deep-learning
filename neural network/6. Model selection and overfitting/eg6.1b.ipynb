{
 "cells": [
  {
   "cell_type": "markdown",
   "metadata": {},
   "source": [
    "# Chapter 6, Example 1b"
   ]
  },
  {
   "cell_type": "code",
   "execution_count": 1,
   "metadata": {},
   "outputs": [],
   "source": [
    "import tensorflow as tf\n",
    "from tensorflow.keras import Sequential\n",
    "from tensorflow.keras.layers import Dense\n",
    "\n",
    "from sklearn import datasets\n",
    "\n",
    "# Helper libraries\n",
    "import numpy as np\n",
    "import matplotlib.pyplot as plt\n",
    "\n",
    "import os\n",
    "if not os.path.isdir('figures'):\n",
    "    os.makedirs('figures')"
   ]
  },
  {
   "cell_type": "code",
   "execution_count": 2,
   "metadata": {},
   "outputs": [],
   "source": [
    "# parameters\n",
    "no_epochs = 1000\n",
    "\n",
    "no_labels = 3\n",
    "no_features = 4\n",
    "no_exps = 10\n",
    "\n",
    "hidden_units = [2, 4, 6, 8, 10, 12]\n",
    "\n",
    "seed = 10\n",
    "tf.random.set_seed(seed)\n",
    "np.random.seed(seed)"
   ]
  },
  {
   "cell_type": "code",
   "execution_count": 3,
   "metadata": {},
   "outputs": [],
   "source": [
    "def train_exp(X, Y):\n",
    "\n",
    "    x_train, y_train, x_test, y_test = X[:100], Y[:100], X[100:], Y[100:]\n",
    "    \n",
    "    acc = []\n",
    "    for no_hidden in hidden_units:\n",
    "        \n",
    "        model = Sequential([\n",
    "            Dense(no_hidden, activation='relu'),\n",
    "            Dense(no_labels, activation='softmax')])\n",
    "    \n",
    "        model.compile(optimizer='sgd', \n",
    "            loss='sparse_categorical_crossentropy',\n",
    "            metrics=['accuracy'])\n",
    "    \n",
    "        history = model.fit(x_train, y_train,\n",
    "            epochs=no_epochs,\n",
    "            verbose=0,\n",
    "            use_multiprocessing=False,\n",
    "            validation_data=(x_test, y_test))\n",
    "    \n",
    "        acc.append(history.history['val_accuracy'][no_epochs-1])\n",
    "        \n",
    "    return acc"
   ]
  },
  {
   "cell_type": "code",
   "execution_count": 4,
   "metadata": {},
   "outputs": [
    {
     "name": "stdout",
     "output_type": "stream",
     "text": [
      "exp 0, acc [0.96, 0.98, 0.96, 1.0, 0.96, 0.98]\n",
      "exp 1, acc [0.96, 0.92, 0.94, 0.96, 0.96, 0.96]\n",
      "exp 2, acc [0.82, 0.92, 0.94, 0.96, 0.94, 0.96]\n",
      "exp 3, acc [0.9, 0.96, 0.96, 0.94, 0.96, 0.94]\n",
      "exp 4, acc [1.0, 1.0, 1.0, 1.0, 0.98, 1.0]\n",
      "exp 5, acc [0.96, 0.98, 0.98, 0.98, 0.98, 0.98]\n",
      "exp 6, acc [0.94, 0.98, 0.98, 0.98, 0.98, 0.98]\n",
      "exp 7, acc [1.0, 1.0, 0.98, 1.0, 1.0, 1.0]\n",
      "exp 8, acc [0.96, 0.98, 0.98, 0.98, 0.98, 0.98]\n",
      "exp 9, acc [0.94, 0.96, 0.96, 0.94, 0.94, 0.96]\n",
      "accuracy [0.94399995 0.96800005 0.96800005 0.974      0.96799994 0.9740001 ]\n",
      "* hidden units 12 *\n"
     ]
    }
   ],
   "source": [
    "# input data\n",
    "iris = datasets.load_iris()\n",
    "iris.data -= np.mean(iris.data, axis=0)\n",
    "\n",
    "X = iris.data\n",
    "Y = iris.target\n",
    "no_data = len(iris.data)\n",
    "\n",
    "acc = []\n",
    "for exp in range(no_exps):\n",
    "        \n",
    "    idx = np.arange(no_data)\n",
    "    np.random.shuffle(idx)\n",
    "\n",
    "    acc.append(train_exp(X[idx], Y[idx]))\n",
    "    print('exp %d, acc %s'%(exp, acc[exp]))\n",
    "\n",
    "mean_acc = np.mean(np.array(acc), axis = 0)\n",
    "print('accuracy %s'%(mean_acc))\n",
    "\n",
    "print('* hidden units %d *'%hidden_units[np.argmax(mean_acc)])"
   ]
  },
  {
   "cell_type": "code",
   "execution_count": 5,
   "metadata": {},
   "outputs": [
    {
     "data": {
      "image/png": "[encoded data removed]",
      "text/plain": [
       "<Figure size 432x288 with 1 Axes>"
      ]
     },
     "metadata": {
      "needs_background": "light"
     },
     "output_type": "display_data"
    }
   ],
   "source": [
    "plt.figure(1)\n",
    "plt.plot(hidden_units, mean_acc, marker = 'x', linestyle = 'None')\n",
    "plt.xlabel('number of hidden units')\n",
    "plt.ylabel('mean classification accuracy')\n",
    "plt.savefig('./figures/6.1b_1.png')"
   ]
  }
 ],
 "metadata": {
  "kernelspec": {
   "display_name": "Python 3",
   "language": "python",
   "name": "python3"
  },
  "language_info": {
   "codemirror_mode": {
    "name": "ipython",
    "version": 3
   },
   "file_extension": ".py",
   "mimetype": "text/x-python",
   "name": "python",
   "nbconvert_exporter": "python",
   "pygments_lexer": "ipython3",
   "version": "3.7.7"
  }
 },
 "nbformat": 4,
 "nbformat_minor": 4
}
