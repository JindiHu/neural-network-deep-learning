{
 "cells": [
  {
   "cell_type": "code",
   "execution_count": 1,
   "metadata": {},
   "outputs": [],
   "source": [
    "#\n",
    "# Chapter 9, Example 1a\n",
    "#\n",
    "\n",
    "import numpy as np\n",
    "import tensorflow as tf\n",
    "from tensorflow.keras import Model, layers, models\n",
    "import pylab\n",
    "\n",
    "import os\n",
    "if not os.path.isdir('figures'):\n",
    "    print('creating the figures folder')\n",
    "    os.makedirs('figures')"
   ]
  },
  {
   "cell_type": "code",
   "execution_count": 2,
   "metadata": {},
   "outputs": [],
   "source": [
    "n_in = 2\n",
    "n_hidden = 10\n",
    "n_out = 1\n",
    "n_steps = 16\n",
    "n_seqs = 64\n",
    "\n",
    "n_iters = 10000\n",
    "lr = 0.001\n",
    "\n",
    "seed = 10\n",
    "np.random.seed(seed)\n",
    "tf.random.set_seed(seed)\n",
    "tf.keras.backend.set_floatx('float32')"
   ]
  },
  {
   "cell_type": "code",
   "execution_count": 3,
   "metadata": {},
   "outputs": [],
   "source": [
    "# generate training data\n",
    "x_train = np.random.rand(n_seqs,n_steps, n_in)\n",
    "y_train = np.zeros([n_seqs,n_steps, n_out])\n",
    "\n",
    "y_train[:,7:,0] = 5*x_train[:,6:-1, 0]*x_train[:,5:-2,1] - 2*x_train[:,:-7,0] + 3.5*x_train[:,2:-5,1]**2\n",
    "y_train += 0.1*np.random.randn(n_seqs,n_steps, n_out)\n",
    "\n",
    "x_train = tf.constant(x_train, dtype=tf.float32)\n",
    "y_train = tf.constant(y_train, dtype=tf.float32)"
   ]
  },
  {
   "cell_type": "code",
   "execution_count": 4,
   "metadata": {},
   "outputs": [],
   "source": [
    "class SeriesPredictor(Model):\n",
    "\n",
    "    def __init__(self, input_dim, seq_size, num_steps, hidden_dim=10):\n",
    "        super(SeriesPredictor, self).__init__()\n",
    "        # Hyperparameters\n",
    "        self.input_dim = input_dim\n",
    "        self.seq_size = seq_size\n",
    "        self.hidden_dim = hidden_dim\n",
    "        self.num_steps = num_steps\n",
    "\n",
    "        # Weight variables and RNN cell\n",
    "        self.W_out = tf.Variable(tf.keras.backend.random_normal([hidden_dim, 1]))\n",
    "        self.b_out = tf.Variable(tf.keras.backend.random_normal([1]))\n",
    "        self.rnn = tf.keras.layers.RNN(\n",
    "            tf.keras.layers.LSTMCell(self.hidden_dim),\n",
    "            return_sequences=True)\n",
    "\n",
    "    def call(self, x):\n",
    "        # forward logic\n",
    "        outputs = self.rnn(x)\n",
    "        \n",
    "        out_ = []\n",
    "        for i, h in enumerate(tf.split(outputs, self.num_steps, axis = 1)):\n",
    "            y_ = tf.matmul(tf.squeeze(h), self.W_out) + self.b_out\n",
    "            out_.append(y_)\n",
    "        \n",
    "        out = tf.stack(out_, axis=1)\n",
    "        return out"
   ]
  },
  {
   "cell_type": "code",
   "execution_count": 5,
   "metadata": {},
   "outputs": [],
   "source": [
    "# Set an optimizer and loss function for training\n",
    "optimizer = tf.optimizers.Adam(lr=0.001)\n",
    "def get_loss(output, target):\n",
    "    mse_loss = tf.reduce_mean(tf.square(output - target))\n",
    "    return mse_loss"
   ]
  },
  {
   "cell_type": "code",
   "execution_count": 6,
   "metadata": {},
   "outputs": [],
   "source": [
    "# Training function\n",
    "def train_step(model, x, target):\n",
    "    with tf.GradientTape() as tape:\n",
    "        out = model(x)\n",
    "        mse_loss = get_loss(out, target)\n",
    "        gradients = tape.gradient(mse_loss, model.variables)\n",
    "        gradient_variables = zip(gradients, model.variables)\n",
    "        optimizer.apply_gradients(gradient_variables)\n",
    "    return mse_loss"
   ]
  },
  {
   "cell_type": "code",
   "execution_count": 7,
   "metadata": {},
   "outputs": [],
   "source": [
    "predictor = SeriesPredictor(input_dim=n_in, seq_size=n_seqs, num_steps=n_steps, hidden_dim=n_hidden)"
   ]
  },
  {
   "cell_type": "code",
   "execution_count": 8,
   "metadata": {},
   "outputs": [
    {
     "name": "stdout",
     "output_type": "stream",
     "text": [
      "iter:0, cost: 3.11486\n",
      "iter:100, cost: 1.66383\n",
      "iter:200, cost: 1.52581\n",
      "iter:300, cost: 1.33165\n",
      "iter:400, cost: 1.21619\n",
      "iter:500, cost: 1.13901\n",
      "iter:600, cost: 1.09857\n",
      "iter:700, cost: 1.05347\n",
      "iter:800, cost: 0.997203\n",
      "iter:900, cost: 0.908717\n",
      "iter:1000, cost: 0.750218\n",
      "iter:1100, cost: 0.644813\n",
      "iter:1200, cost: 0.605142\n",
      "iter:1300, cost: 0.571605\n",
      "iter:1400, cost: 0.533485\n",
      "iter:1500, cost: 0.489477\n",
      "iter:1600, cost: 0.444731\n",
      "iter:1700, cost: 0.400533\n",
      "iter:1800, cost: 0.353487\n",
      "iter:1900, cost: 0.301263\n",
      "iter:2000, cost: 0.259611\n",
      "iter:2100, cost: 0.233711\n",
      "iter:2200, cost: 0.216826\n",
      "iter:2300, cost: 0.204411\n",
      "iter:2400, cost: 0.194096\n",
      "iter:2500, cost: 0.18502\n",
      "iter:2600, cost: 0.176767\n",
      "iter:2700, cost: 0.16913\n",
      "iter:2800, cost: 0.161882\n",
      "iter:2900, cost: 0.154909\n",
      "iter:3000, cost: 0.148083\n",
      "iter:3100, cost: 0.141462\n",
      "iter:3200, cost: 0.135\n",
      "iter:3300, cost: 0.128716\n",
      "iter:3400, cost: 0.122682\n",
      "iter:3500, cost: 0.116774\n",
      "iter:3600, cost: 0.111072\n",
      "iter:3700, cost: 0.105083\n",
      "iter:3800, cost: 0.0988126\n",
      "iter:3900, cost: 0.0919253\n",
      "iter:4000, cost: 0.0842015\n",
      "iter:4100, cost: 0.0765149\n",
      "iter:4200, cost: 0.0698494\n",
      "iter:4300, cost: 0.0644053\n",
      "iter:4400, cost: 0.0601223\n",
      "iter:4500, cost: 0.0566437\n",
      "iter:4600, cost: 0.0537906\n",
      "iter:4700, cost: 0.0513849\n",
      "iter:4800, cost: 0.0493341\n",
      "iter:4900, cost: 0.0475446\n",
      "iter:5000, cost: 0.0458672\n",
      "iter:5100, cost: 0.0443713\n",
      "iter:5200, cost: 0.0429709\n",
      "iter:5300, cost: 0.0416731\n",
      "iter:5400, cost: 0.0403733\n",
      "iter:5500, cost: 0.0391272\n",
      "iter:5600, cost: 0.037925\n",
      "iter:5700, cost: 0.0368935\n",
      "iter:5800, cost: 0.0357307\n",
      "iter:5900, cost: 0.0347455\n",
      "iter:6000, cost: 0.0338256\n",
      "iter:6100, cost: 0.0329593\n",
      "iter:6200, cost: 0.0321793\n",
      "iter:6300, cost: 0.0314335\n",
      "iter:6400, cost: 0.030755\n",
      "iter:6500, cost: 0.0301106\n",
      "iter:6600, cost: 0.0295192\n",
      "iter:6700, cost: 0.0289591\n",
      "iter:6800, cost: 0.0284331\n",
      "iter:6900, cost: 0.0279417\n",
      "iter:7000, cost: 0.027502\n",
      "iter:7100, cost: 0.0270409\n",
      "iter:7200, cost: 0.0266483\n",
      "iter:7300, cost: 0.0262368\n",
      "iter:7400, cost: 0.0263228\n",
      "iter:7500, cost: 0.0255101\n",
      "iter:7600, cost: 0.0251784\n",
      "iter:7700, cost: 0.0248457\n",
      "iter:7800, cost: 0.0245297\n",
      "iter:7900, cost: 0.0242382\n",
      "iter:8000, cost: 0.0239544\n",
      "iter:8100, cost: 0.0237905\n",
      "iter:8200, cost: 0.0234138\n",
      "iter:8300, cost: 0.0231543\n",
      "iter:8400, cost: 0.0229125\n",
      "iter:8500, cost: 0.0226722\n",
      "iter:8600, cost: 0.0224467\n",
      "iter:8700, cost: 0.0222261\n",
      "iter:8800, cost: 0.0220153\n",
      "iter:8900, cost: 0.0218107\n",
      "iter:9000, cost: 0.0216113\n",
      "iter:9100, cost: 0.0214223\n",
      "iter:9200, cost: 0.0215925\n",
      "iter:9300, cost: 0.0210591\n",
      "iter:9400, cost: 0.0208831\n",
      "iter:9500, cost: 0.0207202\n",
      "iter:9600, cost: 0.020557\n",
      "iter:9700, cost: 0.0204302\n",
      "iter:9800, cost: 0.0202566\n",
      "iter:9900, cost: 0.0201123\n"
     ]
    }
   ],
   "source": [
    "loss = []\n",
    "for i in range(n_iters):\n",
    "\n",
    "    l = train_step(predictor, x_train, y_train)\n",
    "    loss.append(l)\n",
    "\n",
    "    if not i % 100:\n",
    "        print('iter:%d, cost: %g'%(i, loss[i]))"
   ]
  },
  {
   "cell_type": "code",
   "execution_count": 10,
   "metadata": {},
   "outputs": [],
   "source": [
    "pred = predictor(x_train)"
   ]
  },
  {
   "cell_type": "code",
   "execution_count": 11,
   "metadata": {},
   "outputs": [
    {
     "data": {
      "image/png": "[encoded data removed]",
      "text/plain": [
       "<Figure size 432x288 with 1 Axes>"
      ]
     },
     "metadata": {
      "needs_background": "light"
     },
     "output_type": "display_data"
    },
    {
     "data": {
      "image/png": "[encoded data removed]",
      "text/plain": [
       "<Figure size 288x144 with 8 Axes>"
      ]
     },
     "metadata": {
      "needs_background": "light"
     },
     "output_type": "display_data"
    },
    {
     "data": {
      "image/png": "[encoded data removed]",
      "text/plain": [
       "<Figure size 288x144 with 8 Axes>"
      ]
     },
     "metadata": {
      "needs_background": "light"
     },
     "output_type": "display_data"
    },
    {
     "data": {
      "image/png": "[encoded data removed]",
      "text/plain": [
       "<Figure size 288x144 with 8 Axes>"
      ]
     },
     "metadata": {
      "needs_background": "light"
     },
     "output_type": "display_data"
    }
   ],
   "source": [
    "pylab.figure()\n",
    "pylab.plot(range(n_iters), loss)\n",
    "pylab.xlabel('epochs')\n",
    "pylab.ylabel('mean square error')\n",
    "pylab.savefig('./figures/9.1a_1.png')\n",
    "\n",
    "pylab.figure(figsize=(4, 2))\n",
    "for i in range(8):\n",
    "    ax = pylab.subplot(4, 2, i+1)\n",
    "    pylab.axis('off')\n",
    "    ax.plot(range(n_steps), x_train[i,:,0],'r')\n",
    "    ax.plot(range(n_steps), x_train[i,:,1],'g')\n",
    "    pylab.savefig('./figures/9.1a_2.png')\n",
    "    \n",
    "pylab.figure(figsize=(4, 2))\n",
    "for i in range(8):\n",
    "    ax = pylab.subplot(4, 2, i+1)\n",
    "    pylab.axis('off')\n",
    "    ax.plot(range(n_steps), y_train[i,:,0])\n",
    "    pylab.savefig('./figures/9.1a_3.png')\n",
    "\n",
    "pylab.figure(figsize=(4, 2))\n",
    "for i in range(8):\n",
    "    ax = pylab.subplot(4, 2, i+1)\n",
    "    pylab.axis('off')\n",
    "    ax.plot(range(n_steps), y_train[i,:,0])\n",
    "    ax.plot(range(n_steps), pred[i, :, 0])\n",
    "    pylab.savefig('./figures/9.1a_4.png')\n",
    "\n",
    "\n",
    "pylab.show()"
   ]
  },
  {
   "cell_type": "code",
   "execution_count": null,
   "metadata": {},
   "outputs": [],
   "source": []
  }
 ],
 "metadata": {
  "kernelspec": {
   "display_name": "Python 3",
   "language": "python",
   "name": "python3"
  },
  "language_info": {
   "codemirror_mode": {
    "name": "ipython",
    "version": 3
   },
   "file_extension": ".py",
   "mimetype": "text/x-python",
   "name": "python",
   "nbconvert_exporter": "python",
   "pygments_lexer": "ipython3",
   "version": "3.7.9"
  }
 },
 "nbformat": 4,
 "nbformat_minor": 4
}
