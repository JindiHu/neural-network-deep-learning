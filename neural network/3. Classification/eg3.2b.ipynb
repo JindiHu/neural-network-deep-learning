{
 "cells": [
  {
   "cell_type": "markdown",
   "metadata": {},
   "source": [
    "# Chapter 3, Example 2"
   ]
  },
  {
   "cell_type": "code",
   "execution_count": 1,
   "metadata": {},
   "outputs": [],
   "source": [
    "import tensorflow as tf\n",
    "import numpy as np\n",
    "import pylab as plt\n",
    "from mpl_toolkits.mplot3d import Axes3D\n",
    "\n",
    "import os\n",
    "if not os.path.isdir('figures'):\n",
    "\tos.makedirs('figures')"
   ]
  },
  {
   "cell_type": "code",
   "execution_count": 2,
   "metadata": {},
   "outputs": [],
   "source": [
    "no_epochs = 500\n",
    "lr = 0.4\n",
    "\n",
    "SEED = 10\n",
    "np.random.seed(SEED)"
   ]
  },
  {
   "cell_type": "code",
   "execution_count": 3,
   "metadata": {},
   "outputs": [
    {
     "data": {
      "image/png": "[encoded data removed]",
      "text/plain": [
       "<Figure size 432x288 with 1 Axes>"
      ]
     },
     "metadata": {
      "needs_background": "light"
     },
     "output_type": "display_data"
    }
   ],
   "source": [
    "# training data\n",
    "X = np.array([[1.33, 0.72], [-1.55, -0.01], [0.62, -0.72],\n",
    "    [0.27, 0.11], [0.0, -0.17], [0.43, 1.2], [-0.97, 1.03], [0.23, 0.45]])\n",
    "Y = np.array([0, 1, 1, 1, 1, 0, 0, 0]).reshape(8,1)\n",
    "\n",
    "# plot training data\n",
    "plt.figure(1)\n",
    "plt.plot(X[Y[:,0]==1,0], X[Y[:,0]==1,1],'bx', label ='class A')\n",
    "plt.plot(X[Y[:,0]==0,0], X[Y[:,0]==0,1],'ro', label='class B')\n",
    "plt.xlabel('$x_1$')\n",
    "plt.ylabel('$x_2$')\n",
    "plt.title('training data')\n",
    "plt.legend()\n",
    "plt.savefig('./figures/3.2b_1.png')"
   ]
  },
  {
   "cell_type": "code",
   "execution_count": 4,
   "metadata": {},
   "outputs": [],
   "source": [
    "class Logistic():\n",
    "  def __init__(self):\n",
    "    self.w = tf.Variable(np.random.rand(2,1), dtype=tf.float64)\n",
    "    self.b = tf.Variable([0.], dtype=tf.float64)\n",
    "\n",
    "  def __call__(self, x):\n",
    "    return tf.sigmoid(tf.matmul(x, self.w) + self.b)"
   ]
  },
  {
   "cell_type": "code",
   "execution_count": 5,
   "metadata": {},
   "outputs": [],
   "source": [
    "def loss(targets, logits):\n",
    "  t_float = tf.cast(targets, tf.float64)\n",
    "  losses = -tf.reduce_sum(t_float*tf.math.log(logits) + (1-t_float)*tf.math.log(1-logits))\n",
    "  class_err = tf.reduce_sum(tf.cast(tf.not_equal(logits > 0.5, targets), tf.int32))\n",
    "  return losses, class_err"
   ]
  },
  {
   "cell_type": "code",
   "execution_count": 6,
   "metadata": {},
   "outputs": [],
   "source": [
    "def train(model, inputs, outputs, learning_rate):\n",
    "  with tf.GradientTape() as t:\n",
    "    current_loss, current_err = loss(outputs, model(inputs))\n",
    "  dw, db = t.gradient(current_loss, [model.w, model.b])\n",
    "  model.w.assign(model.w - learning_rate * dw)\n",
    "  model.b.assign(model.b - learning_rate * db)"
   ]
  },
  {
   "cell_type": "code",
   "execution_count": 7,
   "metadata": {},
   "outputs": [
    {
     "name": "stdout",
     "output_type": "stream",
     "text": [
      "[[0.77132064]\n",
      " [0.02075195]] [0.]\n"
     ]
    }
   ],
   "source": [
    "model = Logistic()\n",
    "\n",
    "print(model.w.numpy(), model.b.numpy())"
   ]
  },
  {
   "cell_type": "code",
   "execution_count": 8,
   "metadata": {},
   "outputs": [
    {
     "name": "stdout",
     "output_type": "stream",
     "text": [
      "Epoch  0:  loss=6.65218\n",
      "Epoch 100:  loss=0.46219\n",
      "Epoch 200:  loss=0.30571\n",
      "Epoch 300:  loss=0.23153\n",
      "Epoch 400:  loss=0.18663\n"
     ]
    }
   ],
   "source": [
    "entropy, err = [], []\n",
    "for epoch in range(no_epochs):\n",
    "  entropy_, err_ = loss(Y, model(X))\n",
    "  entropy.append(entropy_), err.append(err_)\n",
    "  \n",
    "  train(model, X, Y, learning_rate=lr)\n",
    "\n",
    "  if epoch%100 == 0:\n",
    "      print('Epoch %2d:  loss=%2.5f'%(epoch, entropy[-1]))"
   ]
  },
  {
   "cell_type": "code",
   "execution_count": 9,
   "metadata": {},
   "outputs": [
    {
     "name": "stdout",
     "output_type": "stream",
     "text": [
      "w: [[ -1.19890942]\n",
      " [-15.02004335]], b: [4.47257815]\n"
     ]
    }
   ],
   "source": [
    "# print learned weights\n",
    "print('w: %s, b: %s'%(model.w.numpy(), model.b.numpy()))"
   ]
  },
  {
   "cell_type": "code",
   "execution_count": 10,
   "metadata": {},
   "outputs": [
    {
     "data": {
      "image/png": "[encoded data removed]",
      "text/plain": [
       "<Figure size 432x288 with 1 Axes>"
      ]
     },
     "metadata": {
      "needs_background": "light"
     },
     "output_type": "display_data"
    },
    {
     "data": {
      "image/png": "[encoded data removed]",
      "text/plain": [
       "<Figure size 432x288 with 1 Axes>"
      ]
     },
     "metadata": {
      "needs_background": "light"
     },
     "output_type": "display_data"
    }
   ],
   "source": [
    "# plot learning curves\n",
    "plt.figure(2)\n",
    "plt.plot(range(no_epochs), entropy)\n",
    "plt.xlabel('epochs')\n",
    "plt.ylabel('cross-entropy')\n",
    "plt.savefig('./figures/3.2b_2.png')\n",
    "\n",
    "plt.figure(3)\n",
    "plt.plot(range(25), np.array(err)[:25])\n",
    "plt.xlabel('epochs')\n",
    "plt.ylabel('classification error')\n",
    "plt.savefig('./figures/3.2b_3.png')"
   ]
  },
  {
   "cell_type": "code",
   "execution_count": 11,
   "metadata": {},
   "outputs": [
    {
     "data": {
      "image/png": "[encoded data removed]",
      "text/plain": [
       "<Figure size 432x288 with 1 Axes>"
      ]
     },
     "metadata": {
      "needs_background": "light"
     },
     "output_type": "display_data"
    }
   ],
   "source": [
    "# plot the decision boundary\n",
    "x1 = np.arange(-2, 2, 0.1)\n",
    "x2 = -(x1*model.w.numpy()[0] + model.b.numpy())/model.w.numpy()[1]\n",
    "\n",
    "plt.figure(4)\n",
    "plt.plot(X[Y[:,0]==1,0], X[Y[:,0]==1,1],'bx', label ='class A')\n",
    "plt.plot(X[Y[:,0]==0,0],X[Y[:,0]==0,1],'ro', label='class B')\n",
    "plt.plot(x1, x2, '-')\n",
    "plt.xlabel('$x_1$')\n",
    "plt.ylabel('$x_2$')\n",
    "plt.title('decision boundary')\n",
    "plt.legend()\n",
    "plt.savefig('./figures/3.2b_4.png')"
   ]
  },
  {
   "cell_type": "code",
   "execution_count": null,
   "metadata": {},
   "outputs": [],
   "source": []
  }
 ],
 "metadata": {
  "kernelspec": {
   "display_name": "Python 3",
   "language": "python",
   "name": "python3"
  },
  "language_info": {
   "codemirror_mode": {
    "name": "ipython",
    "version": 3
   },
   "file_extension": ".py",
   "mimetype": "text/x-python",
   "name": "python",
   "nbconvert_exporter": "python",
   "pygments_lexer": "ipython3",
   "version": "3.7.7"
  }
 },
 "nbformat": 4,
 "nbformat_minor": 2
}
