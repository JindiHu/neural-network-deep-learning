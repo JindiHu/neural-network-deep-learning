{
 "cells": [
  {
   "cell_type": "markdown",
   "metadata": {},
   "source": [
    "# Chapter 4, example 4"
   ]
  },
  {
   "cell_type": "code",
   "execution_count": 1,
   "metadata": {},
   "outputs": [],
   "source": [
    "import tensorflow as tf\n",
    "import numpy as np\n",
    "import pylab as plt\n",
    "\n",
    "from sklearn import datasets\n",
    "\n",
    "import os\n",
    "if not os.path.isdir('figures'):\n",
    "    os.makedirs('figures')"
   ]
  },
  {
   "cell_type": "code",
   "execution_count": 2,
   "metadata": {},
   "outputs": [],
   "source": [
    "no_epochs = 2500\n",
    "lr = 0.5\n",
    "\n",
    "SEED = 100\n",
    "np.random.seed(SEED)\n",
    "tf.random.set_seed(SEED)"
   ]
  },
  {
   "cell_type": "code",
   "execution_count": 3,
   "metadata": {},
   "outputs": [
    {
     "name": "stdout",
     "output_type": "stream",
     "text": [
      "(150, 4)\n",
      "(150, 3)\n"
     ]
    }
   ],
   "source": [
    "no_inputs = 4\n",
    "no_outputs = 3\n",
    "\n",
    "# input data\n",
    "iris = datasets.load_iris()\n",
    "iris.data -= np.mean(iris.data, axis=0)\n",
    "\n",
    "no_data = len(iris.data)\n",
    "\n",
    "X = iris.data\n",
    "\n",
    "# convert the targets into one-hot matrix\n",
    "Y = np.zeros((no_data, no_outputs))\n",
    "for i in range(no_data):\n",
    "    Y[i, iris.target[i]] = 1\n",
    "    \n",
    "print(np.shape(X))\n",
    "print(np.shape(Y))"
   ]
  },
  {
   "cell_type": "code",
   "execution_count": 4,
   "metadata": {},
   "outputs": [],
   "source": [
    "class SoftmaxLayer():\n",
    "  def __init__(self, no_inputs, no_outputs):\n",
    "    w_init = tf.random_normal_initializer()\n",
    "    self.w = tf.Variable(w_init(shape=(no_inputs,no_outputs), dtype=tf.float64))\n",
    "    b_init = tf.zeros_initializer()\n",
    "    self.b = tf.Variable(b_init(shape=(no_outputs), dtype=tf.float64))\n",
    "\n",
    "  def __call__(self, x):\n",
    "    return tf.sigmoid(tf.matmul(x, self.w) + self.b)"
   ]
  },
  {
   "cell_type": "code",
   "execution_count": 5,
   "metadata": {},
   "outputs": [],
   "source": [
    "def loss(targets, logits):\n",
    "  t_float = tf.cast(targets, tf.float64)\n",
    "  losses = -tf.reduce_mean(tf.reduce_sum(t_float*tf.math.log(logits) + (1-t_float)*tf.math.log(1-logits), axis=1))\n",
    "  class_err = tf.reduce_sum(tf.cast(tf.not_equal(tf.argmax(logits, axis=1), tf.argmax(targets, axis=1)), dtype=tf.int32))\n",
    "  return losses, class_err"
   ]
  },
  {
   "cell_type": "code",
   "execution_count": 6,
   "metadata": {},
   "outputs": [],
   "source": [
    "def train(model, inputs, outputs, learning_rate):\n",
    "  with tf.GradientTape() as t:\n",
    "    current_loss, current_err = loss(outputs, model(inputs))\n",
    "  dw, db = t.gradient(current_loss, [model.w, model.b])\n",
    "  model.w.assign(model.w - learning_rate * dw)\n",
    "  model.b.assign(model.b - learning_rate * db)"
   ]
  },
  {
   "cell_type": "code",
   "execution_count": 7,
   "metadata": {},
   "outputs": [
    {
     "name": "stdout",
     "output_type": "stream",
     "text": [
      "[[ 0.00470517  0.00424244 -0.0228833 ]\n",
      " [-0.0086293  -0.03198624  0.05250187]\n",
      " [ 0.10071415 -0.00131456 -0.00903195]\n",
      " [-0.01193019 -0.04326576 -0.04804788]] [0. 0. 0.]\n"
     ]
    }
   ],
   "source": [
    "model = SoftmaxLayer(no_inputs, no_outputs)\n",
    "\n",
    "print(model.w.numpy(), model.b.numpy())"
   ]
  },
  {
   "cell_type": "code",
   "execution_count": 8,
   "metadata": {},
   "outputs": [
    {
     "name": "stdout",
     "output_type": "stream",
     "text": [
      "Epoch  0:  loss=2.18439:  error=140\n",
      "Epoch 100:  loss=0.69670:  error= 12\n",
      "Epoch 200:  loss=0.63346:  error= 11\n",
      "Epoch 300:  loss=0.60569:  error=  9\n",
      "Epoch 400:  loss=0.58989:  error=  8\n",
      "Epoch 500:  loss=0.57959:  error=  7\n",
      "Epoch 600:  loss=0.57226:  error=  7\n",
      "Epoch 700:  loss=0.56676:  error=  7\n",
      "Epoch 800:  loss=0.56245:  error=  7\n",
      "Epoch 900:  loss=0.55898:  error=  7\n",
      "Epoch 1000:  loss=0.55612:  error=  7\n",
      "Epoch 1100:  loss=0.55371:  error=  7\n",
      "Epoch 1200:  loss=0.55166:  error=  5\n",
      "Epoch 1300:  loss=0.54989:  error=  5\n",
      "Epoch 1400:  loss=0.54834:  error=  5\n",
      "Epoch 1500:  loss=0.54697:  error=  5\n",
      "Epoch 1600:  loss=0.54575:  error=  5\n",
      "Epoch 1700:  loss=0.54466:  error=  5\n",
      "Epoch 1800:  loss=0.54368:  error=  5\n",
      "Epoch 1900:  loss=0.54279:  error=  5\n",
      "Epoch 2000:  loss=0.54198:  error=  5\n",
      "Epoch 2100:  loss=0.54123:  error=  5\n",
      "Epoch 2200:  loss=0.54055:  error=  5\n",
      "Epoch 2300:  loss=0.53992:  error=  5\n",
      "Epoch 2400:  loss=0.53933:  error=  5\n",
      "test error=  5\n"
     ]
    }
   ],
   "source": [
    "entropy, err = [], []\n",
    "for epoch in range(no_epochs):\n",
    "  entropy_, err_ = loss(Y, model(X))\n",
    "  entropy.append(entropy_), err.append(err_)\n",
    "  \n",
    "  train(model, X, Y, learning_rate=lr)\n",
    "\n",
    "  if epoch%100 == 0:\n",
    "      print('Epoch %2d:  loss=%2.5f:  error=%3d'%(epoch, entropy[-1], err[-1]))\n",
    "\n",
    "entropy_, err_ = loss(Y, model(X))\n",
    "print('test error=%3d'%err_)"
   ]
  },
  {
   "cell_type": "code",
   "execution_count": 9,
   "metadata": {},
   "outputs": [
    {
     "name": "stdout",
     "output_type": "stream",
     "text": [
      "w: [[ 0.16112264 -0.23794744 -1.88049957]\n",
      " [ 2.85205098 -2.80324075 -1.87991927]\n",
      " [-3.98617645  1.30159936  5.32990401]\n",
      " [-1.74865081 -2.75831801  6.66144243]], b: [-4.31065078 -1.0003197  -8.77862138]\n"
     ]
    }
   ],
   "source": [
    "# print learned weights\n",
    "print('w: %s, b: %s'%(model.w.numpy(), model.b.numpy()))"
   ]
  },
  {
   "cell_type": "code",
   "execution_count": 10,
   "metadata": {},
   "outputs": [
    {
     "data": {
      "image/png": "[encoded data removed]",
      "text/plain": [
       "<Figure size 432x288 with 1 Axes>"
      ]
     },
     "metadata": {
      "needs_background": "light"
     },
     "output_type": "display_data"
    },
    {
     "data": {
      "image/png": "[encoded data removed]",
      "text/plain": [
       "<Figure size 432x288 with 1 Axes>"
      ]
     },
     "metadata": {
      "needs_background": "light"
     },
     "output_type": "display_data"
    }
   ],
   "source": [
    "# plot learning curves\n",
    "plt.figure(2)\n",
    "plt.plot(range(no_epochs), entropy)\n",
    "plt.xlabel('epochs')\n",
    "plt.ylabel('cross-entropy')\n",
    "plt.savefig('./figures/4.4_1.png')\n",
    "\n",
    "plt.figure(3)\n",
    "plt.plot(range(no_epochs), np.array(err))\n",
    "plt.xlabel('epochs')\n",
    "plt.ylabel('classification error')\n",
    "plt.savefig('./figures/4.4_2.png')"
   ]
  }
 ],
 "metadata": {
  "kernelspec": {
   "display_name": "Python 3",
   "language": "python",
   "name": "python3"
  },
  "language_info": {
   "codemirror_mode": {
    "name": "ipython",
    "version": 3
   },
   "file_extension": ".py",
   "mimetype": "text/x-python",
   "name": "python",
   "nbconvert_exporter": "python",
   "pygments_lexer": "ipython3",
   "version": "3.8.5"
  }
 },
 "nbformat": 4,
 "nbformat_minor": 2
}
