{
 "cells": [
  {
   "cell_type": "markdown",
   "metadata": {},
   "source": [
    "# Chapter 4, example 2"
   ]
  },
  {
   "cell_type": "code",
   "execution_count": 1,
   "metadata": {},
   "outputs": [],
   "source": [
    "import tensorflow as tf\n",
    "import numpy as np\n",
    "import pylab as plt\n",
    "\n",
    "import os\n",
    "if not os.path.isdir('figures'):\n",
    "    os.makedirs('figures')"
   ]
  },
  {
   "cell_type": "code",
   "execution_count": 2,
   "metadata": {},
   "outputs": [],
   "source": [
    "no_features = 3\n",
    "no_labels = 2\n",
    "no_data = 8\n",
    "\n",
    "lr = 0.1\n",
    "no_iters = 10000\n",
    "\n",
    "SEED = 10\n",
    "np.random.seed(SEED)"
   ]
  },
  {
   "cell_type": "code",
   "execution_count": 3,
   "metadata": {},
   "outputs": [
    {
     "name": "stdout",
     "output_type": "stream",
     "text": [
      "X = [[0.77132064 0.02075195 0.63364823]\n",
      " [0.74880388 0.49850701 0.22479665]\n",
      " [0.19806286 0.76053071 0.16911084]\n",
      " [0.08833981 0.68535982 0.95339335]\n",
      " [0.00394827 0.51219226 0.81262096]\n",
      " [0.61252607 0.72175532 0.29187607]\n",
      " [0.91777412 0.71457578 0.54254437]\n",
      " [0.14217005 0.37334076 0.67413362]]\n",
      "Y = [[0.36700015 0.46890243]\n",
      " [0.36067172 0.37505132]\n",
      " [0.34976828 0.24872748]\n",
      " [0.48444787 0.41710316]\n",
      " [0.36332573 0.28887784]\n",
      " [0.43984029 0.51677508]\n",
      " [0.59832905 0.51552032]\n",
      " [0.27739117 0.37034263]]\n",
      "alpha = 0.1\n"
     ]
    }
   ],
   "source": [
    "# generate training data\n",
    "X = np.random.rand(no_data, no_features)\n",
    "Y = np.zeros((no_data, no_labels))\n",
    "Y[:,0] = (X[:,0] + X[:,1]**2 + X[:, 2]**3 + np.random.rand(no_data))/4\n",
    "Y[:,1] = (X[:,0] + X[:,1] + X[:, 2] + X[:,0]*X[:,1]*X[:,2] + np.random.rand(no_data))/5\n",
    "\n",
    "print('X = {}'.format(X))\n",
    "print('Y = {}'.format(Y))\n",
    "print('alpha = {}'.format(lr))"
   ]
  },
  {
   "cell_type": "code",
   "execution_count": 4,
   "metadata": {},
   "outputs": [],
   "source": [
    "class Perceptron_Layer():\n",
    "  def __init__(self, no_features, no_labels):\n",
    "    self.w = tf.Variable(np.random.rand(no_features, no_labels)*0.05, dtype=tf.float64)\n",
    "    self.b = tf.Variable(tf.zeros([no_labels], dtype=tf.float64))\n",
    "\n",
    "  def __call__(self, x):\n",
    "    u = tf.matmul(x, self.w) + self.b\n",
    "    y = tf.sigmoid(u)\n",
    "    return u, y"
   ]
  },
  {
   "cell_type": "code",
   "execution_count": 5,
   "metadata": {},
   "outputs": [],
   "source": [
    "def loss(predicted_y, target_y):\n",
    "  return tf.reduce_mean(tf.reduce_sum(tf.square(target_y - predicted_y), axis=1))"
   ]
  },
  {
   "cell_type": "code",
   "execution_count": 6,
   "metadata": {},
   "outputs": [],
   "source": [
    "def train(model, inputs, outputs, learning_rate):\n",
    "    _, y = model(inputs)\n",
    "    dy = y*(1 - y)\n",
    "    grad_u = -(outputs - y)*dy\n",
    "    grad_w = tf.matmul(tf.transpose(inputs), grad_u)\n",
    "    grad_b = tf.reduce_sum(grad_u, axis = 0)\n",
    "    \n",
    "    model.w.assign_sub(learning_rate * grad_w)\n",
    "    model.b.assign_sub(learning_rate * grad_b)\n",
    "    \n",
    "    return dy, grad_u, grad_w, grad_b"
   ]
  },
  {
   "cell_type": "code",
   "execution_count": 7,
   "metadata": {},
   "outputs": [
    {
     "name": "stdout",
     "output_type": "stream",
     "text": [
      "w: [[0.02737931 0.04096435]\n",
      " [0.00994738 0.04284252]\n",
      " [0.01758263 0.03773238]], b: [0. 0.]\n"
     ]
    }
   ],
   "source": [
    "model = Perceptron_Layer(no_features, no_labels)\n",
    "\n",
    "print('w: {}, b: {}'.format(model.w.numpy(), model.b.numpy()))"
   ]
  },
  {
   "cell_type": "code",
   "execution_count": 8,
   "metadata": {},
   "outputs": [
    {
     "name": "stdout",
     "output_type": "stream",
     "text": [
      "iter: 1\n",
      "u: [[0.03246586 0.05639477]\n",
      " [0.02941309 0.06051367]\n",
      " [0.01596152 0.04707752]\n",
      " [0.02599938 0.06895513]\n",
      " [0.01949109 0.05276747]\n",
      " [0.02908206 0.06702673]\n",
      " [0.04177553 0.08868174]\n",
      " [0.01945932 0.04725543]]\n",
      "y: [[0.50811575 0.51409496]\n",
      " [0.50735274 0.5151238 ]\n",
      " [0.5039903  0.51176721]\n",
      " [0.50649948 0.51723195]\n",
      " [0.50487262 0.51318881]\n",
      " [0.50727    0.51675041]\n",
      " [0.51044236 0.52215592]\n",
      " [0.50486468 0.51181166]]\n",
      "m.s.e: 0.04012518181430899\n",
      "dy: [[0.24993413 0.24980133]\n",
      " [0.24994594 0.24977127]\n",
      " [0.24998408 0.24986153]\n",
      " [0.24995776 0.24970306]\n",
      " [0.24997626 0.24982606]\n",
      " [0.24994715 0.24971942]\n",
      " [0.24989096 0.24950912]\n",
      " [0.24997633 0.24986048]]\n",
      "grad_u: [[ 3.52696045e-02  1.12891542e-02]\n",
      " [ 3.66623250e-02  3.49860812e-02]\n",
      " [ 3.85530485e-02  6.57235085e-02]\n",
      " [ 5.51197077e-03  2.50024655e-02]\n",
      " [ 3.53833616e-02  5.60387245e-02]\n",
      " [ 1.68538644e-02 -6.16146671e-06]\n",
      " [-2.19620871e-02  1.65564230e-03]\n",
      " [ 5.68629937e-02  3.53475203e-02]]\n",
      "grad_w: [[0.06117103 0.05689372]\n",
      " [0.08792995 0.12787342]\n",
      " [0.10245525 0.1202335 ]]\n",
      "grad_b: [0.20313508 0.23003693]\n",
      "w: [[0.0212622  0.03527498]\n",
      " [0.00115438 0.03005517]\n",
      " [0.00733711 0.02570903]], b: [-0.02031351 -0.02300369]\n",
      "epoch:0, loss:0.04012518181430899\n",
      "iter: 2\n",
      "u: [[ 0.00075957  0.02111881]\n",
      " [-0.00216746  0.02417237]\n",
      " [-0.01398353  0.01118853]\n",
      " [-0.01064889  0.02522192]\n",
      " [-0.01367601  0.01342131]\n",
      " [-0.00431515  0.02779948]\n",
      " [ 0.00400599  0.04479576]\n",
      " [-0.01191349  0.0105635 ]]\n",
      "y: [[0.50018989 0.50527951]\n",
      " [0.49945813 0.5060428 ]\n",
      " [0.49650418 0.5027971 ]\n",
      " [0.4973378  0.50630515]\n",
      " [0.49658105 0.50335528]\n",
      " [0.49892122 0.50694942]\n",
      " [0.5010015  0.51119707]\n",
      " [0.49702166 0.50264085]]\n",
      "m.s.e: 0.03653319230796049\n",
      "dy: [[0.24999996 0.24997213]\n",
      " [0.24999971 0.24996348]\n",
      " [0.24998778 0.24999218]\n",
      " [0.24999291 0.24996025]\n",
      " [0.24998831 0.24998874]\n",
      " [0.24999884 0.24995171]\n",
      " [0.249999   0.24987463]\n",
      " [0.24999113 0.24999303]]\n",
      "grad_u: [[ 0.03329743  0.00909326]\n",
      " [ 0.03469656  0.03274309]\n",
      " [ 0.03668218  0.06351542]\n",
      " [ 0.00322239  0.02229695]\n",
      " [ 0.03331227  0.05361694]\n",
      " [ 0.01477016 -0.00245594]\n",
      " [-0.02433179 -0.00108027]\n",
      " [ 0.05490568  0.03307363]]\n",
      "grad_w: [[0.05386745 0.04849972]\n",
      " [0.07892824 0.11736362]\n",
      " [0.09336808 0.10968475]]\n",
      "grad_b: [0.18655489 0.21080307]\n",
      "w: [[ 0.01587546  0.03042501]\n",
      " [-0.00673844  0.01831881]\n",
      " [-0.0019997   0.01474056]], b: [-0.038969 -0.044084]\n",
      "epoch:200, loss:0.012369200271964448\n",
      "epoch:400, loss:0.009547814990014312\n",
      "epoch:600, loss:0.007721123872008594\n",
      "epoch:800, loss:0.006416033024162598\n",
      "epoch:1000, loss:0.0054655609051665185\n",
      "epoch:1200, loss:0.0047696365270243415\n",
      "epoch:1400, loss:0.004258730951346841\n",
      "epoch:1600, loss:0.0038828756513068895\n",
      "epoch:1800, loss:0.0036058395774580627\n",
      "epoch:2000, loss:0.003401265014784654\n",
      "epoch:2200, loss:0.0032499348472099423\n",
      "epoch:2400, loss:0.0031378085266889396\n",
      "epoch:2600, loss:0.003054605115715099\n",
      "epoch:2800, loss:0.0029927797035383115\n",
      "epoch:3000, loss:0.0029467830194868537\n",
      "epoch:3200, loss:0.0029125249131228713\n",
      "epoch:3400, loss:0.002886984682274912\n",
      "epoch:3600, loss:0.0028679273359182686\n",
      "epoch:3800, loss:0.002853696444605626\n",
      "epoch:4000, loss:0.002843062506044761\n",
      "epoch:4200, loss:0.0028351116650964644\n",
      "epoch:4400, loss:0.002829163852288895\n",
      "epoch:4600, loss:0.0028247124291994052\n",
      "epoch:4800, loss:0.0028213795992881752\n",
      "epoch:5000, loss:0.002818883404801363\n",
      "epoch:5200, loss:0.0028170132582885418\n",
      "epoch:5400, loss:0.002815611774449622\n",
      "epoch:5600, loss:0.0028145612620019854\n",
      "epoch:5800, loss:0.0028137736683666137\n",
      "epoch:6000, loss:0.002813183086724988\n",
      "epoch:6200, loss:0.0028127401673016606\n",
      "epoch:6400, loss:0.002812407945533472\n",
      "epoch:6600, loss:0.002812158725670524\n",
      "epoch:6800, loss:0.0028119717513277083\n",
      "epoch:7000, loss:0.0028118314633049208\n",
      "epoch:7200, loss:0.0028117261959916765\n",
      "epoch:7400, loss:0.0028116472015323924\n",
      "epoch:7600, loss:0.002811587919073889\n",
      "epoch:7800, loss:0.0028115434273657284\n",
      "epoch:8000, loss:0.002811510034592675\n",
      "epoch:8200, loss:0.002811484970959763\n",
      "epoch:8400, loss:0.0028114661582394587\n",
      "epoch:8600, loss:0.0028114520369808584\n",
      "epoch:8800, loss:0.0028114414369319303\n",
      "epoch:9000, loss:0.0028114334798537916\n",
      "epoch:9200, loss:0.0028114275066204787\n",
      "epoch:9400, loss:0.002811423022529593\n",
      "epoch:9600, loss:0.0028114196562707187\n",
      "epoch:9800, loss:0.0028114171291381976\n",
      "iter: 10000\n",
      "u: [[-0.65450324 -0.1528308 ]\n",
      " [-0.46704496 -0.33307843]\n",
      " [-0.753545   -0.90354437]\n",
      " [-0.08014989 -0.39632383]\n",
      " [-0.57954836 -0.68057356]\n",
      " [-0.21956645 -0.34271239]\n",
      " [ 0.38789226  0.21420738]\n",
      " [-0.78656788 -0.69533828]]\n",
      "y: [[0.34197546 0.4618665 ]\n",
      " [0.3853159  0.41749178]\n",
      " [0.32004935 0.28832267]\n",
      " [0.47997325 0.4021959 ]\n",
      " [0.35903652 0.3361333 ]\n",
      " [0.44532785 0.41515076]\n",
      " [0.5957752  0.55334801]\n",
      " [0.31290609 0.3328466 ]]\n",
      "m.s.e: 0.0028114152401259125\n",
      "dy: [[0.22502824 0.24854584]\n",
      " [0.23684756 0.24319239]\n",
      " [0.21761777 0.20519271]\n",
      " [0.24959893 0.24043436]\n",
      " [0.2301293  0.22314771]\n",
      " [0.24701096 0.24280061]\n",
      " [0.24082711 0.24715399]\n",
      " [0.21499587 0.22205974]]\n",
      "grad_u: [[-0.00563126 -0.00174875]\n",
      " [ 0.00583691  0.0103212 ]\n",
      " [-0.00646737  0.00812464]\n",
      " [-0.00111686 -0.00358422]\n",
      " [-0.00098707  0.01054495]\n",
      " [ 0.00135549 -0.02467445]\n",
      " [-0.00061504  0.00934927]\n",
      " [ 0.00763556 -0.00832636]]\n",
      "grad_w: [[-4.95517633e-06 -3.08863809e-06]\n",
      " [-7.26261986e-06 -4.22286188e-06]\n",
      " [-7.40727970e-06 -4.64967168e-06]]\n",
      "grad_b: [1.03651294e-05 6.27722059e-06]\n",
      "w: [[1.08203095 1.14034734]\n",
      " [1.42454337 0.39919455]\n",
      " [1.14653011 0.84453119]], b: [-2.24515506 -1.57582409]\n"
     ]
    }
   ],
   "source": [
    "cost = []\n",
    "for i in range(no_iters):\n",
    "    u_, y_ = model(X)\n",
    "    loss_ = loss(y_, Y)\n",
    "    dy_, grad_u_, grad_w_, grad_b_ = train(model, X, Y, lr)\n",
    "    \n",
    "    if (i < 2 or i == no_iters - 1):\n",
    "        print('iter: {}'.format(i+1))\n",
    "        print('u: {}'.format(u_))\n",
    "        print('y: {}'.format(y_))\n",
    "    \n",
    "        print('m.s.e: {}'.format(loss_))\n",
    "          \n",
    "        print('dy: {}'.format(dy_))\n",
    "        print('grad_u: {}'.format(grad_u_))\n",
    "        print('grad_w: {}'.format(grad_w_))\n",
    "        print('grad_b: {}'.format(grad_b_))\n",
    "\n",
    "        print('w: {}, b: {}'.format(model.w.numpy(), model.b.numpy()))\n",
    "  \n",
    "    cost.append(loss_)\n",
    "\n",
    "    if not i%200:\n",
    "        print('epoch:{}, loss:{}'.format(i,cost[i]))"
   ]
  },
  {
   "cell_type": "code",
   "execution_count": 9,
   "metadata": {},
   "outputs": [
    {
     "name": "stdout",
     "output_type": "stream",
     "text": [
      "w: [[1.08203095 1.14034734]\n",
      " [1.42454337 0.39919455]\n",
      " [1.14653011 0.84453119]], b: [-2.24515506 -1.57582409]\n",
      "loss:0.0028114152401259125\n"
     ]
    }
   ],
   "source": [
    "print('w: {}, b: {}'.format(model.w.numpy(), model.b.numpy()))\n",
    "print('loss:{}'.format(cost[i]))"
   ]
  },
  {
   "cell_type": "code",
   "execution_count": 10,
   "metadata": {},
   "outputs": [
    {
     "data": {
      "image/png": "[encoded data removed]",
      "text/plain": [
       "<Figure size 432x288 with 1 Axes>"
      ]
     },
     "metadata": {
      "needs_background": "light"
     },
     "output_type": "display_data"
    }
   ],
   "source": [
    "# plot learning curves\n",
    "plt.figure(1)\n",
    "plt.plot(range(no_iters), cost)\n",
    "plt.xlabel('iterations')\n",
    "plt.ylabel('mean square error')\n",
    "plt.title('gd with alpha = {}'.format(lr))\n",
    "plt.savefig('./figures/4.2_1.png')"
   ]
  },
  {
   "cell_type": "code",
   "execution_count": 11,
   "metadata": {},
   "outputs": [
    {
     "data": {
      "image/png": "[encoded data removed]",
      "text/plain": [
       "<Figure size 432x288 with 1 Axes>"
      ]
     },
     "metadata": {
      "needs_background": "light"
     },
     "output_type": "display_data"
    }
   ],
   "source": [
    "_, pred = model(X)\n",
    "\n",
    "plt.figure(2)\n",
    "plot_targets = plt.plot(Y[:,0], Y[:,1], 'b^', label='targets')\n",
    "plot_pred = plt.plot(pred[:,0], pred[:,1], 'ro', label='predicted')\n",
    "plt.xlabel('$y_1$')\n",
    "plt.ylabel('$y_2$')\n",
    "plt.title('gd outputs')\n",
    "plt.legend()\n",
    "plt.savefig('./figures/4.2_2.png')"
   ]
  },
  {
   "cell_type": "code",
   "execution_count": null,
   "metadata": {},
   "outputs": [],
   "source": []
  }
 ],
 "metadata": {
  "kernelspec": {
   "display_name": "Python 3",
   "language": "python",
   "name": "python3"
  },
  "language_info": {
   "codemirror_mode": {
    "name": "ipython",
    "version": 3
   },
   "file_extension": ".py",
   "mimetype": "text/x-python",
   "name": "python",
   "nbconvert_exporter": "python",
   "pygments_lexer": "ipython3",
   "version": "3.7.7"
  }
 },
 "nbformat": 4,
 "nbformat_minor": 4
}
