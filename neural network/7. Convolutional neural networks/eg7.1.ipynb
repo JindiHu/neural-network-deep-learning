{
 "metadata": {
  "language_info": {
   "codemirror_mode": {
    "name": "ipython",
    "version": 3
   },
   "file_extension": ".py",
   "mimetype": "text/x-python",
   "name": "python",
   "nbconvert_exporter": "python",
   "pygments_lexer": "ipython3",
   "version": "3.7.9-final"
  },
  "orig_nbformat": 2,
  "kernelspec": {
   "name": "python_defaultSpec_1599119063325",
   "display_name": "Python 3.7.9 64-bit ('py37': conda)"
  }
 },
 "nbformat": 4,
 "nbformat_minor": 2,
 "cells": [
  {
   "cell_type": "code",
   "execution_count": 9,
   "metadata": {
    "tags": []
   },
   "outputs": [
    {
     "output_type": "stream",
     "name": "stdout",
     "text": "2.2.0\n"
    }
   ],
   "source": [
    "#\n",
    "# Chapter 7, Example 1\n",
    "#\n",
    "\n",
    "import tensorflow as tf\n",
    "import numpy as np\n",
    "from tensorflow.keras import Model, layers, models\n",
    "\n",
    "# Check the version of Tensorflow (2.2.0)\n",
    "print(tf.__version__)"
   ]
  },
  {
   "cell_type": "code",
   "execution_count": 10,
   "metadata": {
    "tags": []
   },
   "outputs": [
    {
     "output_type": "stream",
     "name": "stdout",
     "text": "[[ 0.5 -0.1  0.2  0.3  0.5]\n [ 0.8  0.1 -0.5  0.5  0.1]\n [-1.   0.2  0.   0.3 -0.2]\n [ 0.7  0.1  0.2 -0.6  0.3]\n [-0.4  0.   0.2  0.3 -0.3]]\n"
    }
   ],
   "source": [
    "# Input image\n",
    "I = np.array([[0.5, -0.1, 0.2, 0.3, 0.5],\n",
    "              [0.8, 0.1, -0.5, 0.5, 0.1],\n",
    "              [-1.0, 0.2, 0.0, 0.3, -0.2],\n",
    "              [0.7, 0.1, 0.2, -0.6, 0.3],\n",
    "              [-0.4, 0.0, 0.2, 0.3, -0.3]]).astype(np.float32)\n",
    "print(I)"
   ]
  },
  {
   "cell_type": "code",
   "execution_count": 11,
   "metadata": {
    "tags": []
   },
   "outputs": [],
   "source": [
    "# Model definition\n",
    "class MyModel(Model):\n",
    "    def __init__(self, pad):\n",
    "        super(MyModel, self).__init__()\n",
    "        self.seq = models.Sequential()\n",
    "        self.seq.add(layers.Conv2D(1, 3, strides=(1,1), padding=pad, input_shape=[5,5,1]))\n",
    "\n",
    "    def call(self, x):\n",
    "        u = self.seq(x)\n",
    "        y = tf.nn.sigmoid(u)\n",
    "        return u,y\n"
   ]
  },
  {
   "cell_type": "code",
   "execution_count": 12,
   "metadata": {},
   "outputs": [],
   "source": [
    "# Set filters and bias\n",
    "w = np.array([[0, 1, 1],[1, 0, 1], [1, 1, 0]]).astype(np.float32).reshape(3,3,1,1)\n",
    "b = np.array([0.05]).astype(np.float32)"
   ]
  },
  {
   "cell_type": "code",
   "execution_count": 13,
   "metadata": {
    "tags": []
   },
   "outputs": [
    {
     "output_type": "stream",
     "name": "stdout",
     "text": "Model: \"sequential_1\"\n_________________________________________________________________\nLayer (type)                 Output Shape              Param #   \n=================================================================\nconv2d_1 (Conv2D)            (None, 3, 3, 1)           10        \n=================================================================\nTotal params: 10\nTrainable params: 10\nNon-trainable params: 0\n_________________________________________________________________\n<tf.Variable 'conv2d_1/kernel:0' shape=(3, 3, 1, 1) dtype=float32, numpy=\narray([[[[0.]],\n\n        [[1.]],\n\n        [[1.]]],\n\n\n       [[[1.]],\n\n        [[0.]],\n\n        [[1.]]],\n\n\n       [[[1.]],\n\n        [[1.]],\n\n        [[0.]]]], dtype=float32)>\n<tf.Variable 'conv2d_1/bias:0' shape=(1,) dtype=float32, numpy=array([0.05], dtype=float32)>\n"
    }
   ],
   "source": [
    "# VALID padding for convolution\n",
    "model = MyModel('VALID')\n",
    "# SAME padding for convolution\n",
    "# model = MyModel('same'')\n",
    "\n",
    "model.seq.summary() \n",
    "model.seq.set_weights([w,b])\n",
    "# filters\n",
    "print(model.seq.weights[0])\n",
    "# bias\n",
    "print(model.seq.weights[1])\n"
   ]
  },
  {
   "cell_type": "code",
   "execution_count": 14,
   "metadata": {
    "tags": []
   },
   "outputs": [
    {
     "output_type": "stream",
     "name": "stdout",
     "text": "VALID padding for convolution\n\nu: [[-0.34999996  1.35        0.75000006]\n [-0.54999995  0.85        0.05      ]\n [ 0.75000006  0.04999999  1.15      ]]\n\ny: [[0.41338244 0.7941296  0.6791787 ]\n [0.36586443 0.7005672  0.5124974 ]\n [0.6791787  0.5124974  0.7595109 ]]\n\n"
    }
   ],
   "source": [
    "# evaluate u and y\n",
    "u, y = model(I.reshape([1, 5, 5, 1]))\n",
    "print('VALID padding for convolution\\n')\n",
    "print('u: %s\\n'%np.array(u).reshape([3, 3]))\n",
    "print('y: %s\\n'%np.array(y).reshape([3, 3]))"
   ]
  },
  {
   "cell_type": "code",
   "execution_count": 15,
   "metadata": {
    "tags": []
   },
   "outputs": [
    {
     "output_type": "stream",
     "name": "stdout",
     "text": "VALID padding for pooling\no: [[0.7941296]]\n"
    }
   ],
   "source": [
    "# evaluate o for VALID\n",
    "o = tf.nn.max_pool(y, ksize=[1, 2, 2, 1], strides = [1, 2, 2, 1], padding = 'VALID')\n",
    "print('VALID padding for pooling')\n",
    "print('o: %s'%np.array(o).reshape([1, 1]))"
   ]
  },
  {
   "cell_type": "code",
   "execution_count": 16,
   "metadata": {
    "tags": []
   },
   "outputs": [
    {
     "output_type": "stream",
     "name": "stdout",
     "text": "SAME padding for pooling\no: [[0.7941296 0.6791787]\n [0.6791787 0.7595109]]\n"
    }
   ],
   "source": [
    "# evaluate o for SAME\n",
    "o = tf.nn.max_pool(y, ksize=[1, 2, 2, 1], strides = [1, 2, 2, 1], padding = 'SAME')\n",
    "print('SAME padding for pooling')\n",
    "print('o: %s'%np.array(o).reshape([2, 2]))"
   ]
  }
 ]
}