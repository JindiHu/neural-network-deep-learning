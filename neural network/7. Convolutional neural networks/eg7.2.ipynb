{
 "metadata": {
  "language_info": {
   "codemirror_mode": {
    "name": "ipython",
    "version": 3
   },
   "file_extension": ".py",
   "mimetype": "text/x-python",
   "name": "python",
   "nbconvert_exporter": "python",
   "pygments_lexer": "ipython3",
   "version": "3.7.9-final"
  },
  "orig_nbformat": 2,
  "kernelspec": {
   "name": "python_defaultSpec_1599119073945",
   "display_name": "Python 3.7.9 64-bit ('py37': conda)"
  }
 },
 "nbformat": 4,
 "nbformat_minor": 2,
 "cells": [
  {
   "cell_type": "code",
   "execution_count": 1,
   "metadata": {
    "tags": []
   },
   "outputs": [
    {
     "output_type": "stream",
     "name": "stdout",
     "text": "2.2.0\n"
    }
   ],
   "source": [
    "#\n",
    "# Chapter 7, example 2\n",
    "#\n",
    "\n",
    "import tensorflow as tf\n",
    "import numpy as np\n",
    "from tensorflow.keras import Model, layers, models\n",
    "import matplotlib.pyplot as plt\n",
    "\n",
    "# Check the version of Tensorflow (2.2.0)\n",
    "print(tf.__version__)"
   ]
  },
  {
   "cell_type": "code",
   "execution_count": 2,
   "metadata": {
    "tags": []
   },
   "outputs": [],
   "source": [
    "# Load and prepare the MNIST dataset. Convert the samples from integers to floating-point numbers:\n",
    "mnist = tf.keras.datasets.mnist\n",
    "(x_train, y_train), (x_test, y_test) = mnist.load_data()\n",
    "x_train, x_test = x_train / 255.0, x_test / 255.0\n"
   ]
  },
  {
   "cell_type": "code",
   "execution_count": 3,
   "metadata": {
    "tags": []
   },
   "outputs": [
    {
     "output_type": "execute_result",
     "data": {
      "text/plain": "<matplotlib.image.AxesImage at 0x7f4c85f7fb90>"
     },
     "metadata": {},
     "execution_count": 3
    },
    {
     "output_type": "display_data",
     "data": {
      "text/plain": "<Figure size 432x288 with 1 Axes>",
      "image/svg+xml": "<?xml version=\"1.0\" encoding=\"utf-8\" standalone=\"no\"?>\n<!DOCTYPE svg PUBLIC \"-//W3C//DTD SVG 1.1//EN\"\n  \"http://www.w3.org/Graphics/SVG/1.1/DTD/svg11.dtd\">\n<!-- Created with matplotlib (https://matplotlib.org/) -->\n<svg height=\"248.518125pt\" version=\"1.1\" viewBox=\"0 0 251.565 248.518125\" width=\"251.565pt\" xmlns=\"http://www.w3.org/2000/svg\" xmlns:xlink=\"http://www.w3.org/1999/xlink\">\n <metadata>\n  <rdf:RDF xmlns:cc=\"http://creativecommons.org/ns#\" xmlns:dc=\"http://purl.org/dc/elements/1.1/\" xmlns:rdf=\"http://www.w3.org/1999/02/22-rdf-syntax-ns#\">\n   <cc:Work>\n    <dc:type rdf:resource=\"http://purl.org/dc/dcmitype/StillImage\"/>\n    <dc:date>2020-09-03T15:46:34.885885</dc:date>\n    <dc:format>image/svg+xml</dc:format>\n    <dc:creator>\n     <cc:Agent>\n      <dc:title>Matplotlib v3.3.1, https://matplotlib.org/</dc:title>\n     </cc:Agent>\n    </dc:creator>\n   </cc:Work>\n  </rdf:RDF>\n </metadata>\n <defs>\n  <style type=\"text/css\">*{stroke-linecap:butt;stroke-linejoin:round;}</style>\n </defs>\n <g id=\"figure_1\">\n  <g id=\"patch_1\">\n   <path d=\"M 0 248.518125 \nL 251.565 248.518125 \nL 251.565 0 \nL 0 0 \nz\n\" style=\"fill:none;\"/>\n  </g>\n  <g id=\"axes_1\">\n   <g id=\"patch_2\">\n    <path d=\"M 26.925 224.64 \nL 244.365 224.64 \nL 244.365 7.2 \nL 26.925 7.2 \nz\n\" style=\"fill:#ffffff;\"/>\n   </g>\n   <g clip-path=\"url(#p11eb3afcfc)\">\n    <image height=\"218\" id=\"image564bf2f95b\" transform=\"scale(1 -1)translate(0 -218)\" width=\"218\" x=\"26.925\" xlink:href=\"data:image/png;base64,\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\" y=\"-6.64\"/>\n   </g>\n   <g id=\"matplotlib.axis_1\">\n    <g id=\"xtick_1\">\n     <g id=\"line2d_1\">\n      <defs>\n       <path d=\"M 0 0 \nL 0 3.5 \n\" id=\"m46a5168b1d\" style=\"stroke:#000000;stroke-width:0.8;\"/>\n      </defs>\n      <g>\n       <use style=\"stroke:#000000;stroke-width:0.8;\" x=\"30.807857\" xlink:href=\"#m46a5168b1d\" y=\"224.64\"/>\n      </g>\n     </g>\n     <g id=\"text_1\">\n      <!-- 0 -->\n      <g transform=\"translate(27.626607 239.238437)scale(0.1 -0.1)\">\n       <defs>\n        <path d=\"M 31.78125 66.40625 \nQ 24.171875 66.40625 20.328125 58.90625 \nQ 16.5 51.421875 16.5 36.375 \nQ 16.5 21.390625 20.328125 13.890625 \nQ 24.171875 6.390625 31.78125 6.390625 \nQ 39.453125 6.390625 43.28125 13.890625 \nQ 47.125 21.390625 47.125 36.375 \nQ 47.125 51.421875 43.28125 58.90625 \nQ 39.453125 66.40625 31.78125 66.40625 \nz\nM 31.78125 74.21875 \nQ 44.046875 74.21875 50.515625 64.515625 \nQ 56.984375 54.828125 56.984375 36.375 \nQ 56.984375 17.96875 50.515625 8.265625 \nQ 44.046875 -1.421875 31.78125 -1.421875 \nQ 19.53125 -1.421875 13.0625 8.265625 \nQ 6.59375 17.96875 6.59375 36.375 \nQ 6.59375 54.828125 13.0625 64.515625 \nQ 19.53125 74.21875 31.78125 74.21875 \nz\n\" id=\"DejaVuSans-48\"/>\n       </defs>\n       <use xlink:href=\"#DejaVuSans-48\"/>\n      </g>\n     </g>\n    </g>\n    <g id=\"xtick_2\">\n     <g id=\"line2d_2\">\n      <g>\n       <use style=\"stroke:#000000;stroke-width:0.8;\" x=\"69.636429\" xlink:href=\"#m46a5168b1d\" y=\"224.64\"/>\n      </g>\n     </g>\n     <g id=\"text_2\">\n      <!-- 5 -->\n      <g transform=\"translate(66.455179 239.238437)scale(0.1 -0.1)\">\n       <defs>\n        <path d=\"M 10.796875 72.90625 \nL 49.515625 72.90625 \nL 49.515625 64.59375 \nL 19.828125 64.59375 \nL 19.828125 46.734375 \nQ 21.96875 47.46875 24.109375 47.828125 \nQ 26.265625 48.1875 28.421875 48.1875 \nQ 40.625 48.1875 47.75 41.5 \nQ 54.890625 34.8125 54.890625 23.390625 \nQ 54.890625 11.625 47.5625 5.09375 \nQ 40.234375 -1.421875 26.90625 -1.421875 \nQ 22.3125 -1.421875 17.546875 -0.640625 \nQ 12.796875 0.140625 7.71875 1.703125 \nL 7.71875 11.625 \nQ 12.109375 9.234375 16.796875 8.0625 \nQ 21.484375 6.890625 26.703125 6.890625 \nQ 35.15625 6.890625 40.078125 11.328125 \nQ 45.015625 15.765625 45.015625 23.390625 \nQ 45.015625 31 40.078125 35.4375 \nQ 35.15625 39.890625 26.703125 39.890625 \nQ 22.75 39.890625 18.8125 39.015625 \nQ 14.890625 38.140625 10.796875 36.28125 \nz\n\" id=\"DejaVuSans-53\"/>\n       </defs>\n       <use xlink:href=\"#DejaVuSans-53\"/>\n      </g>\n     </g>\n    </g>\n    <g id=\"xtick_3\">\n     <g id=\"line2d_3\">\n      <g>\n       <use style=\"stroke:#000000;stroke-width:0.8;\" x=\"108.465\" xlink:href=\"#m46a5168b1d\" y=\"224.64\"/>\n      </g>\n     </g>\n     <g id=\"text_3\">\n      <!-- 10 -->\n      <g transform=\"translate(102.1025 239.238437)scale(0.1 -0.1)\">\n       <defs>\n        <path d=\"M 12.40625 8.296875 \nL 28.515625 8.296875 \nL 28.515625 63.921875 \nL 10.984375 60.40625 \nL 10.984375 69.390625 \nL 28.421875 72.90625 \nL 38.28125 72.90625 \nL 38.28125 8.296875 \nL 54.390625 8.296875 \nL 54.390625 0 \nL 12.40625 0 \nz\n\" id=\"DejaVuSans-49\"/>\n       </defs>\n       <use xlink:href=\"#DejaVuSans-49\"/>\n       <use x=\"63.623047\" xlink:href=\"#DejaVuSans-48\"/>\n      </g>\n     </g>\n    </g>\n    <g id=\"xtick_4\">\n     <g id=\"line2d_4\">\n      <g>\n       <use style=\"stroke:#000000;stroke-width:0.8;\" x=\"147.293571\" xlink:href=\"#m46a5168b1d\" y=\"224.64\"/>\n      </g>\n     </g>\n     <g id=\"text_4\">\n      <!-- 15 -->\n      <g transform=\"translate(140.931071 239.238437)scale(0.1 -0.1)\">\n       <use xlink:href=\"#DejaVuSans-49\"/>\n       <use x=\"63.623047\" xlink:href=\"#DejaVuSans-53\"/>\n      </g>\n     </g>\n    </g>\n    <g id=\"xtick_5\">\n     <g id=\"line2d_5\">\n      <g>\n       <use style=\"stroke:#000000;stroke-width:0.8;\" x=\"186.122143\" xlink:href=\"#m46a5168b1d\" y=\"224.64\"/>\n      </g>\n     </g>\n     <g id=\"text_5\">\n      <!-- 20 -->\n      <g transform=\"translate(179.759643 239.238437)scale(0.1 -0.1)\">\n       <defs>\n        <path d=\"M 19.1875 8.296875 \nL 53.609375 8.296875 \nL 53.609375 0 \nL 7.328125 0 \nL 7.328125 8.296875 \nQ 12.9375 14.109375 22.625 23.890625 \nQ 32.328125 33.6875 34.8125 36.53125 \nQ 39.546875 41.84375 41.421875 45.53125 \nQ 43.3125 49.21875 43.3125 52.78125 \nQ 43.3125 58.59375 39.234375 62.25 \nQ 35.15625 65.921875 28.609375 65.921875 \nQ 23.96875 65.921875 18.8125 64.3125 \nQ 13.671875 62.703125 7.8125 59.421875 \nL 7.8125 69.390625 \nQ 13.765625 71.78125 18.9375 73 \nQ 24.125 74.21875 28.421875 74.21875 \nQ 39.75 74.21875 46.484375 68.546875 \nQ 53.21875 62.890625 53.21875 53.421875 \nQ 53.21875 48.921875 51.53125 44.890625 \nQ 49.859375 40.875 45.40625 35.40625 \nQ 44.1875 33.984375 37.640625 27.21875 \nQ 31.109375 20.453125 19.1875 8.296875 \nz\n\" id=\"DejaVuSans-50\"/>\n       </defs>\n       <use xlink:href=\"#DejaVuSans-50\"/>\n       <use x=\"63.623047\" xlink:href=\"#DejaVuSans-48\"/>\n      </g>\n     </g>\n    </g>\n    <g id=\"xtick_6\">\n     <g id=\"line2d_6\">\n      <g>\n       <use style=\"stroke:#000000;stroke-width:0.8;\" x=\"224.950714\" xlink:href=\"#m46a5168b1d\" y=\"224.64\"/>\n      </g>\n     </g>\n     <g id=\"text_6\">\n      <!-- 25 -->\n      <g transform=\"translate(218.588214 239.238437)scale(0.1 -0.1)\">\n       <use xlink:href=\"#DejaVuSans-50\"/>\n       <use x=\"63.623047\" xlink:href=\"#DejaVuSans-53\"/>\n      </g>\n     </g>\n    </g>\n   </g>\n   <g id=\"matplotlib.axis_2\">\n    <g id=\"ytick_1\">\n     <g id=\"line2d_7\">\n      <defs>\n       <path d=\"M 0 0 \nL -3.5 0 \n\" id=\"mf5b3757290\" style=\"stroke:#000000;stroke-width:0.8;\"/>\n      </defs>\n      <g>\n       <use style=\"stroke:#000000;stroke-width:0.8;\" x=\"26.925\" xlink:href=\"#mf5b3757290\" y=\"11.082857\"/>\n      </g>\n     </g>\n     <g id=\"text_7\">\n      <!-- 0 -->\n      <g transform=\"translate(13.5625 14.882076)scale(0.1 -0.1)\">\n       <use xlink:href=\"#DejaVuSans-48\"/>\n      </g>\n     </g>\n    </g>\n    <g id=\"ytick_2\">\n     <g id=\"line2d_8\">\n      <g>\n       <use style=\"stroke:#000000;stroke-width:0.8;\" x=\"26.925\" xlink:href=\"#mf5b3757290\" y=\"49.911429\"/>\n      </g>\n     </g>\n     <g id=\"text_8\">\n      <!-- 5 -->\n      <g transform=\"translate(13.5625 53.710647)scale(0.1 -0.1)\">\n       <use xlink:href=\"#DejaVuSans-53\"/>\n      </g>\n     </g>\n    </g>\n    <g id=\"ytick_3\">\n     <g id=\"line2d_9\">\n      <g>\n       <use style=\"stroke:#000000;stroke-width:0.8;\" x=\"26.925\" xlink:href=\"#mf5b3757290\" y=\"88.74\"/>\n      </g>\n     </g>\n     <g id=\"text_9\">\n      <!-- 10 -->\n      <g transform=\"translate(7.2 92.539219)scale(0.1 -0.1)\">\n       <use xlink:href=\"#DejaVuSans-49\"/>\n       <use x=\"63.623047\" xlink:href=\"#DejaVuSans-48\"/>\n      </g>\n     </g>\n    </g>\n    <g id=\"ytick_4\">\n     <g id=\"line2d_10\">\n      <g>\n       <use style=\"stroke:#000000;stroke-width:0.8;\" x=\"26.925\" xlink:href=\"#mf5b3757290\" y=\"127.568571\"/>\n      </g>\n     </g>\n     <g id=\"text_10\">\n      <!-- 15 -->\n      <g transform=\"translate(7.2 131.36779)scale(0.1 -0.1)\">\n       <use xlink:href=\"#DejaVuSans-49\"/>\n       <use x=\"63.623047\" xlink:href=\"#DejaVuSans-53\"/>\n      </g>\n     </g>\n    </g>\n    <g id=\"ytick_5\">\n     <g id=\"line2d_11\">\n      <g>\n       <use style=\"stroke:#000000;stroke-width:0.8;\" x=\"26.925\" xlink:href=\"#mf5b3757290\" y=\"166.397143\"/>\n      </g>\n     </g>\n     <g id=\"text_11\">\n      <!-- 20 -->\n      <g transform=\"translate(7.2 170.196362)scale(0.1 -0.1)\">\n       <use xlink:href=\"#DejaVuSans-50\"/>\n       <use x=\"63.623047\" xlink:href=\"#DejaVuSans-48\"/>\n      </g>\n     </g>\n    </g>\n    <g id=\"ytick_6\">\n     <g id=\"line2d_12\">\n      <g>\n       <use style=\"stroke:#000000;stroke-width:0.8;\" x=\"26.925\" xlink:href=\"#mf5b3757290\" y=\"205.225714\"/>\n      </g>\n     </g>\n     <g id=\"text_12\">\n      <!-- 25 -->\n      <g transform=\"translate(7.2 209.024933)scale(0.1 -0.1)\">\n       <use xlink:href=\"#DejaVuSans-50\"/>\n       <use x=\"63.623047\" xlink:href=\"#DejaVuSans-53\"/>\n      </g>\n     </g>\n    </g>\n   </g>\n   <g id=\"patch_3\">\n    <path d=\"M 26.925 224.64 \nL 26.925 7.2 \n\" style=\"fill:none;stroke:#000000;stroke-linecap:square;stroke-linejoin:miter;stroke-width:0.8;\"/>\n   </g>\n   <g id=\"patch_4\">\n    <path d=\"M 244.365 224.64 \nL 244.365 7.2 \n\" style=\"fill:none;stroke:#000000;stroke-linecap:square;stroke-linejoin:miter;stroke-width:0.8;\"/>\n   </g>\n   <g id=\"patch_5\">\n    <path d=\"M 26.925 224.64 \nL 244.365 224.64 \n\" style=\"fill:none;stroke:#000000;stroke-linecap:square;stroke-linejoin:miter;stroke-width:0.8;\"/>\n   </g>\n   <g id=\"patch_6\">\n    <path d=\"M 26.925 7.2 \nL 244.365 7.2 \n\" style=\"fill:none;stroke:#000000;stroke-linecap:square;stroke-linejoin:miter;stroke-width:0.8;\"/>\n   </g>\n  </g>\n </g>\n <defs>\n  <clipPath id=\"p11eb3afcfc\">\n   <rect height=\"217.44\" width=\"217.44\" x=\"26.925\" y=\"7.2\"/>\n  </clipPath>\n </defs>\n</svg>\n",
      "image/png": "[encoded data removed]"
     },
     "metadata": {
      "needs_background": "light"
     }
    }
   ],
   "source": [
    "# Select a random sample\n",
    "seed = 1\n",
    "np.random.seed(seed)\n",
    "ind = np.random.randint(low=0, high=55000)\n",
    "x = x_train[ind, :].astype(np.float32)\n",
    "plt.imshow(x, cmap='gray')\n"
   ]
  },
  {
   "cell_type": "code",
   "execution_count": 4,
   "metadata": {},
   "outputs": [],
   "source": [
    "# Model definition\n",
    "class MyModel(Model):\n",
    "    def __init__(self):\n",
    "        super(MyModel, self).__init__()\n",
    "        self.seq = models.Sequential()\n",
    "        self.seq.add(layers.Conv2D(3, 3, padding='VALID', input_shape=[28,28,1], use_bias=False))\n",
    "\n",
    "    def call(self, x):\n",
    "        x1 = self.seq(x)\n",
    "        x2 = tf.nn.sigmoid(x1)\n",
    "        x3 = tf.nn.max_pool(x2, ksize=[1, 2, 2, 1], strides = [1, 2, 2, 1], padding = 'VALID')\n",
    "        return x1, x3\n"
   ]
  },
  {
   "cell_type": "code",
   "execution_count": 5,
   "metadata": {
    "tags": []
   },
   "outputs": [],
   "source": [
    "# Set filters\n",
    "w = np.array([[[-1, 0, 1],[-2, 0, 2], [-1, 0, 1]],\n",
    "     [[1, 2, 1],[0, 0, 0], [-1, -2, -1]],\n",
    "     [[3, 4, 3], [4, 5, 4], [3, 4, 3]]]).astype(np.float32).reshape(3,3,1,3)"
   ]
  },
  {
   "cell_type": "code",
   "execution_count": 6,
   "metadata": {
    "tags": []
   },
   "outputs": [
    {
     "output_type": "stream",
     "name": "stdout",
     "text": "Model: \"sequential\"\n_________________________________________________________________\nLayer (type)                 Output Shape              Param #   \n=================================================================\nconv2d (Conv2D)              (None, 26, 26, 3)         27        \n=================================================================\nTotal params: 27\nTrainable params: 27\nNon-trainable params: 0\n_________________________________________________________________\n<tf.Variable 'conv2d/kernel:0' shape=(3, 3, 1, 3) dtype=float32, numpy=\narray([[[[-1.,  0.,  1.]],\n\n        [[-2.,  0.,  2.]],\n\n        [[-1.,  0.,  1.]]],\n\n\n       [[[ 1.,  2.,  1.]],\n\n        [[ 0.,  0.,  0.]],\n\n        [[-1., -2., -1.]]],\n\n\n       [[[ 3.,  4.,  3.]],\n\n        [[ 4.,  5.,  4.]],\n\n        [[ 3.,  4.,  3.]]]], dtype=float32)>\n"
    }
   ],
   "source": [
    "model = MyModel()\n",
    "model.seq.summary() \n",
    "model.seq.set_weights([w])\n",
    "# filters\n",
    "print(model.seq.weights[0])\n"
   ]
  },
  {
   "cell_type": "code",
   "execution_count": 7,
   "metadata": {
    "tags": []
   },
   "outputs": [
    {
     "output_type": "stream",
     "name": "stdout",
     "text": "(28, 28)\n(26, 26, 3)\n(13, 13, 3)\n"
    }
   ],
   "source": [
    "# evaluate\n",
    "u, o = model(x.reshape([1, 28, 28, 1]))\n",
    "print(x.shape)\n",
    "print(u.shape[1:])\n",
    "print(o.shape[1:])"
   ]
  },
  {
   "cell_type": "code",
   "execution_count": 8,
   "metadata": {},
   "outputs": [
    {
     "output_type": "execute_result",
     "data": {
      "text/plain": "<matplotlib.image.AxesImage at 0x7f4cad55b310>"
     },
     "metadata": {},
     "execution_count": 8
    },
    {
     "output_type": "display_data",
     "data": {
      "text/plain": "<Figure size 432x288 with 1 Axes>",
      "image/svg+xml": "<?xml version=\"1.0\" encoding=\"utf-8\" standalone=\"no\"?>\n<!DOCTYPE svg PUBLIC \"-//W3C//DTD SVG 1.1//EN\"\n  \"http://www.w3.org/Graphics/SVG/1.1/DTD/svg11.dtd\">\n<!-- Created with matplotlib (https://matplotlib.org/) -->\n<svg height=\"231.84pt\" version=\"1.1\" viewBox=\"0 0 231.84 231.84\" width=\"231.84pt\" xmlns=\"http://www.w3.org/2000/svg\" xmlns:xlink=\"http://www.w3.org/1999/xlink\">\n <metadata>\n  <rdf:RDF xmlns:cc=\"http://creativecommons.org/ns#\" xmlns:dc=\"http://purl.org/dc/elements/1.1/\" xmlns:rdf=\"http://www.w3.org/1999/02/22-rdf-syntax-ns#\">\n   <cc:Work>\n    <dc:type rdf:resource=\"http://purl.org/dc/dcmitype/StillImage\"/>\n    <dc:date>2020-09-03T15:46:36.161182</dc:date>\n    <dc:format>image/svg+xml</dc:format>\n    <dc:creator>\n     <cc:Agent>\n      <dc:title>Matplotlib v3.3.1, https://matplotlib.org/</dc:title>\n     </cc:Agent>\n    </dc:creator>\n   </cc:Work>\n  </rdf:RDF>\n </metadata>\n <defs>\n  <style type=\"text/css\">*{stroke-linecap:butt;stroke-linejoin:round;}</style>\n </defs>\n <g id=\"figure_1\">\n  <g id=\"patch_1\">\n   <path d=\"M 0 231.84 \nL 231.84 231.84 \nL 231.84 0 \nL 0 0 \nz\n\" style=\"fill:none;\"/>\n  </g>\n  <g id=\"axes_1\">\n   <g clip-path=\"url(#p0933d2aa0e)\">\n    <image height=\"218\" id=\"imagefb1387cfde\" transform=\"scale(1 -1)translate(0 -218)\" width=\"218\" x=\"7.2\" xlink:href=\"data:image/png;base64,\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\" y=\"-6.64\"/>\n   </g>\n  </g>\n </g>\n <defs>\n  <clipPath id=\"p0933d2aa0e\">\n   <rect height=\"217.44\" width=\"217.44\" x=\"7.2\" y=\"7.2\"/>\n  </clipPath>\n </defs>\n</svg>\n",
      "image/png": "[encoded data removed]"
     },
     "metadata": {
      "needs_background": "light"
     }
    }
   ],
   "source": [
    "# plot input image\n",
    "plt.figure()\n",
    "plt.gray()\n",
    "plt.axis('off')\n",
    "plt.imshow(x.reshape(28,28))"
   ]
  },
  {
   "cell_type": "code",
   "execution_count": 9,
   "metadata": {},
   "outputs": [
    {
     "output_type": "execute_result",
     "data": {
      "text/plain": "(<AxesSubplot:>,\n (0.0, 1.0, 0.0, 1.0),\n <matplotlib.image.AxesImage at 0x7f4cad43f310>)"
     },
     "metadata": {},
     "execution_count": 9
    },
    {
     "output_type": "display_data",
     "data": {
      "text/plain": "<Figure size 432x288 with 3 Axes>",
      "image/svg+xml": "<?xml version=\"1.0\" encoding=\"utf-8\" standalone=\"no\"?>\n<!DOCTYPE svg PUBLIC \"-//W3C//DTD SVG 1.1//EN\"\n  \"http://www.w3.org/Graphics/SVG/1.1/DTD/svg11.dtd\">\n<!-- Created with matplotlib (https://matplotlib.org/) -->\n<svg height=\"112.870588pt\" version=\"1.1\" viewBox=\"0 0 349.2 112.870588\" width=\"349.2pt\" xmlns=\"http://www.w3.org/2000/svg\" xmlns:xlink=\"http://www.w3.org/1999/xlink\">\n <metadata>\n  <rdf:RDF xmlns:cc=\"http://creativecommons.org/ns#\" xmlns:dc=\"http://purl.org/dc/elements/1.1/\" xmlns:rdf=\"http://www.w3.org/1999/02/22-rdf-syntax-ns#\">\n   <cc:Work>\n    <dc:type rdf:resource=\"http://purl.org/dc/dcmitype/StillImage\"/>\n    <dc:date>2020-09-03T15:46:36.256218</dc:date>\n    <dc:format>image/svg+xml</dc:format>\n    <dc:creator>\n     <cc:Agent>\n      <dc:title>Matplotlib v3.3.1, https://matplotlib.org/</dc:title>\n     </cc:Agent>\n    </dc:creator>\n   </cc:Work>\n  </rdf:RDF>\n </metadata>\n <defs>\n  <style type=\"text/css\">*{stroke-linecap:butt;stroke-linejoin:round;}</style>\n </defs>\n <g id=\"figure_1\">\n  <g id=\"patch_1\">\n   <path d=\"M 0 112.870588 \nL 349.2 112.870588 \nL 349.2 0 \nL 0 0 \nz\n\" style=\"fill:none;\"/>\n  </g>\n  <g id=\"axes_1\">\n   <g clip-path=\"url(#pa5d1f6da41)\">\n    <image height=\"99\" id=\"image084540ecd0\" transform=\"scale(1 -1)translate(0 -99)\" width=\"99\" x=\"7.2\" xlink:href=\"data:image/png;base64,\niVBORw0KGgoAAAANSUhEUgAAAGMAAABjCAYAAACPO76VAAAFX0lEQVR4nO2dR0stTRCG+5hzzgEDoqCYEBRB/A3n97p3oehCUVQEA4IJc85+u/mqHu+dw2GOWlzqWfVL48zIa3d1VwdT6XT6MzgmyPvtD3D+x80whJthCDfDEG6GIdwMQ7gZhihI8sOfn3qK8vz8rPTl5aXSZ2dnUfni4iL2Z0lRUZHSNTU1fyyHEEJFRYXSlZWVShcXF8e+67fwlmEIN8MQibqp9/d3pY+Pj5Xe2dlR+ubmJirn5em/g5KSkqzefXd3F5Wvrq5UHbu02tpapZubm5VmN8dv+ym8ZRjCzTCEm2GIRDHj/v5e6Y+PD6XHx8eVnp2djcr9/f2qrqmpKfZd5+fnSm9vb0flzc1NVbe7u6u0jC8hhHBycqI0f4+GhoaoXFpaGvtducRbhiHcDEO4GYZIFDM4Hh8cHFR6amrqr/UFBfrVTFkUFhYqzRRHY2NjVJ6cnFR1jBErKytKLywsKH14eKi0jCH8Tn5XLvGWYQg3wxBuhiESxYyWlhalOzs7lWYOSMYYOZYPIYS+vj6l2Tc/Pj4q/fLyEpVlaj6Er6l75r1kvAkhhPX1daUPDg6i8sPDg6pj7MrPzw+5wluGIdwMQ7gZhkgUM7IllUpFZS7Zcu2DMaK+vl7purq6qNze3q7qqBlTGK+4/iG/bWtrS9VxDlNVVaW0/B2zxVuGIdwMQ/xoNyV3gCwuLqq6jY0Npff29pTmkFKm4IeHh1Xd0NCQ0uw6ysrKlO7t7VVadmtvb2+qjku87G6T4C3DEG6GIdwMQySKGUwvc6ce6+Wy7NPTU+yzmZ6/vb1Venl5OSozRS6HvSF8XeJlmobD5pGRkajc2tqq6vb395VeW1tTOkkM8ZZhCDfDEG6GIRLFDI7XmRpgelmmHTo6OmKfzdQ1t9dIOBc4PT1VmqmV7u5upeNiCuc33LrD2MYtr9ngLcMQboYh3AxDJIoZ7Kuvr6+V5ukk2f9ySyVjAvt9nmxKcvqI8YjfkqTfT4K3DEO4GYZwMwyRKGZwOZPzDm7dkWP0TCdlCftxmefKdOyL38mjC8xVsf6n8JZhCDfDEG6GIXJ6JIBHeHnkNy43xTkLn82jYXKukClmVFdXK80ja9y6I9dhGD/4nbmck3jLMISbYYhvvSGBzb+8vDwqcxicqYuTO8ND0N0Un5Xt6aK4pVKmTrjD/fX1NdG7Jd4yDOFmGMLNMEROt3fyFgP283Jo29bWpup42pXbbbj8GbftJ5cnUhlPMi01c4k3G7xlGMLNMISbYYicxgymCo6OjpSWcwem15my6OrqUprjfRkzeKsOl3/5rmzo6elRmrGM8ORsNnjLMISbYQg3wxDfeoyMeRs5Zs+UiuatBryxR47nmRNjv825Ao8A8JiZ1JxX8GhCpqMN2eAtwxBuhiHcDEN8a8xgf7q6uhqV5a04IYQwNjamNOcZfNbo6GhUZnzhtn3etMb8EZ8t5zD8WS7/Mv+WBG8ZhnAzDPGjNyTI7oC7zpl+52UsTKHLoTGHvbzci10Nd3xwR7scZnOnIy9yYb1f5PKP4GYYws0wxI/GDAnT67xlh8PNiYkJpeXNBbzphsuumS69j4PDYKbymWrxmPGP4GYYws0wxK/FDMJ5B2+rYcpDpkN48ogxgs/msmzcTnJuxeHtCnwWT+lmg7cMQ7gZhnAzDGEmZhDOQ+bm5pSWcWB6elrVDQwMxGqm2HljnITznfn5eaW5TSgJ3jIM4WYYws0whNmYQbhuIHNZ8h8ohvD1nzXOzMwozRgSFzN4E/XS0pLSXCtJgrcMQ7gZhkil0+nc3azuJMJbhiHcDEO4GYZwMwzhZhjCzTCEm2GI/wC8ovGeqn3eZAAAAABJRU5ErkJggg==\" y=\"-6.670588\"/>\n   </g>\n  </g>\n  <g id=\"axes_2\">\n   <g clip-path=\"url(#p600f0387ea)\">\n    <image height=\"99\" id=\"image252ab26218\" transform=\"scale(1 -1)translate(0 -99)\" width=\"99\" x=\"125.364706\" xlink:href=\"data:image/png;base64,\niVBORw0KGgoAAAANSUhEUgAAAGMAAABjCAYAAACPO76VAAAFQ0lEQVR4nO2dWS9sTxTFjynETJtnMYYXxJQQEh59CI++HJ/AAw8SIkGMMUQQ80zM8/+tb631j3b7ntZ2ZP2ezkrp0+dm3ap9ateu6phAIPDhCRPE/vQDiD/IDEPIDEPIDEPIDEPIDEPIDEPIDEPIDEPIDEPER/JmNzc3oF9eXkB/fPzJvCQkJEBbenp6yHunpqaCTkpKCl4/Pj5CW0xMDOj393fQd3d3Ib/rp1DPMITMMITMMISvmPH6+go6OTkZdGtrK+jBwcHgdVNTE7SVlpaG/K6joyPQCwsLweu5uTloW11dBX17ewv6+PgY9MnJCWiOddFCPcMQMsMQMsMQMX6WXfn9vqurC/TQ0BDo/v7+f/2qkLy9vYG+vr4GPTk5CXp8fBy0G388z/POz8+D11dXV9DmzpUijXqGIWSGIWSGIXzNM3huUFtbC7q8vPzTz7q5Jc/zvMTERNBnZ2egOZ/k5qri4/GfkZ2dDbqnpwd0YWEh6Pr6etDT09PBa44335nXUs8whMwwhMwwRETXM74iLi4ueM0xYn19HfTy8jLo3Nxc0JmZmZ/ei9c+eO2kpaUFNH/exZ1zeJ7nLS0tgY5kHks9wxAywxBRHaaenp6C19zdh4eHQY+MjIDm11c3Bd/e3g5tnLrnYSovLw90WVkZaDfF3tbWBm2cjt/c3ATNS7zhoJ5hCJlhCJlhiKjGDHeZltPc7muv532dHhkbGwteT0xMQFtBQQFojiEdHR2ge3t7P20PBALQxssG29vboBUzfgkywxAywxC+YganwRl3XsF/z+l2Lp+ZmZkBzTHDhVMSu7u7oHluwM/FqX533pKRkQFtaWlpoLmU1A/qGYaQGYaQGYaI6Dzj8vIS9P7+PujGxsbgNZfXcAkMzzt4bA6nZIZjG9/74eEBND9btFDPMITMMITMMISvmMExgbcEHBwcfPpZHqd5rsBrDrzNjHNbodjb2wPNS7hcwuknv+QH9QxDyAxDyAxD+IoZ/L7OuX+eC7jzEF535nd7Hre5ZGZ2djZ4zdvZmJycHNBcllpUVASa18yjhXqGIWSGIXwNU1+lrldWVkC7QxPvcuLKcR5KGhoaQLslMjyEfQUPn6FSK19VDPKQ9vz8HNazuKhnGEJmGEJmGCKiKXReOuUyFvckg+LiYmjj3UNZWVmg+e/dZdv5+Xlou7+//7sH/gs4BqSkpIDmsiAu9wwH9QxDyAxDyAxDRDRm8PjK46ebBq+rq4O2qqoq0NXV1aC53MaFUynublW/cNqGn5vLfBQzfgkywxAywxDfuiWAU9tuyv309BTatra2QFdWVoLm7VzuSQU1NTXQdnh4CNrPMirnzJiLi4t/vjejnmEImWEImWGIb40ZfALN1NTUp20cXzgHxEujnZ2dwWsuEeItaDs7O6A5z8XLx+68hddoFhcXQW9sbHiRQj3DEDLDEFHd7eoOTZxu5+rDtbU10Dz0uAe5NDc3Q1tJSQloTlHwMivvTnJfhTnVwsuwOsjllyIzDCEzDBHVmOHC6Q9OWXDKnF+F3VMPuGKQX4NZhwPvjGU4lqlU55cgMwwhMwzxYzGD4ZRFbCz+P+G5gJvC4CXaiooK0FyCGc6pBnwCHJcQ5efng+YfAQsH9QxDyAxDyAxDmIkZDM9DOJfl7rTt6+uDNs4nuXksz/v/UmqoQ4Y5HvFhyJx+94N6hiFkhiFkhiF8/QCWFbgsv7u7G/TAwABoXv/g09Vc+Mey+GTq0dFR0F/tvA2FeoYhZIYhfsUw9VtQzzCEzDCEzDCEzDCEzDCEzDCEzDDEf88wvLZQtsQfAAAAAElFTkSuQmCC\" y=\"-6.670588\"/>\n   </g>\n  </g>\n  <g id=\"axes_3\">\n   <g clip-path=\"url(#pa3d85560d6)\">\n    <image height=\"99\" id=\"imagea15773017f\" transform=\"scale(1 -1)translate(0 -99)\" width=\"99\" x=\"243.529412\" xlink:href=\"data:image/png;base64,\niVBORw0KGgoAAAANSUhEUgAAAGMAAABjCAYAAACPO76VAAAFnUlEQVR4nO2dR0slQRSF65lzzlkEAyomxLRw4Vpc+Cv9BW5cCYqCEcGMYMKcc55dT53zZurNs1u9DPdb1aF8/do5U3W7bt0uQ8aYD6OIIOanb0D5jZohCDVDEGqGINQMQagZglAzBBEX5MWSkpJA5+TkgM7Ly/Paubm50JeYmOi89tPTE+iLiwuvfXl5CX03Nzegr6+vQb+8vDi/66fQkSEINUMQvqap2NhY0MnJyaALCgpAZ2RkfPq7+LP2FMjTztvbG+iTkxPQm5uboHmae39//+xt+kJHhiDUDEGoGYLwFTMSEhJAV1ZWgh4YGAA9ODjotevr66GvsLDQ+V1nZ2eg19bWvPbq6ir0cUzgz2ZnZ4Pe2NgAfXBw4LUfHh6c9xUkOjIEoWYIQs0QhK+YEQqFQDc1NYEeHh4G3dPT47V5bXB+fg76+fkZdGpqKuju7u4/to0JT4csLCyAnpycBJ2SkgI6Jub3/9Ht7W3o+8pUio4MQagZglAzBOErZhQXF4Ourq529ts5n9vbW+jb29sDvb+/D5rzTXY6vqSkBPp4HdHW1gaac2bl5eWgMzMzvfb9/T30HR4egg4yj6UjQxBqhiDUDEEEuu0aCfv5/eMDq0o5n7S0tASat3DtrVSON/acb0x4jKiqqgIdF4f/DHYcuLq6gr7x8XHQnPfyg44MQagZgvjWaer19dVrb21tQd/Y2BjokZER0JyGqKur89otLS3Q19zcDPro6Ag0PyZz6r+2ttZrt7a2Qt/6+jpoTuPw9BsNOjIEoWYIQs0QhK+YYccAY8Kr/rjffmR8fHx0Xtt+DDYmPC0+MzPjtefn56HPTpUYE55iHxoaAl1aWgrajkF8n8vLy6Dt7V9jwn/naNCRIQg1QxBqhiB8xQx+Xudq77u7O9B2aQ+nJBoaGkAXFRWBPj09/ef74HXFxMQE6KysLOd3d3V1ee20tDTo4y1a3nr2g44MQagZglAzBBHoOoPTzZy3seE3lbi8k7dsuQST1zQuuMwnPT0dNL/a8FPoyBCEmiEINUMQvmLG8fEx6JWVFae2n995bcAxpKysDDRvu9olM5H2EPg1Mi4D4ljH9/Zd6MgQhJohCDVDEIG+EsAlL1zGYs/zFRUV0NfR0QGa81y7u7ug7RMSIu2NcC6Ky0Hz8/NB278Hr0Hi4+NB876LH3RkCELNEESgKXSu7JubmwNdU1PjtblSnKcSu1zGGGN6e3tB29MWl/1wWQ8/+nLluOvRmKclvk9OtUSTpmF0ZAhCzRCEmiGIQMs7eWuUK8sXFxe9Nr8Z29jYCJorx3lrtLOz02vzqTi87RokvO3KMcS1bRAJHRmCUDMEoWYIItCYwduwfLrA9PS01+ZSHd525ZJLjjH2CQq83uG3izhNEw38FhSfCOfndDlGR4Yg1AxBqBmC+NLXyDhHZOdtOJ5wKQ6/GsYxwz4hjdcVnFLn++C1AeembM0HJ3Nei09Q8IOODEGoGYJQMwTxpTGD5277RDQ+aY3XCrydybkrO4bwSdNcxs+lOfa+yp9+3vVZfvV4Z2fnr5+NFh0ZglAzBPGtJyTY05Z9kK8x4en22dlZ0PyIaR80xlu0nFrhyhJ+POVruyoKg6wGCbv2l11ZiRo1QxBqhiC+NWbYcMyYmpoCzQfC89aqfWAxP/ZyhSCfmBDNG6r8s/wYzTpSdaMLHRmCUDMEoWYI4sdiBsOH90b641p2mpvfoOKyHj5EmFPorm3ZSKWgvEbxg44MQagZglAzBCEmZjCcuubSUTvG9PX1QR+vUTjtzSWarpgRad3Arwz4QUeGINQMQagZgggZYz5/RLEQ+PSE9vZ20P39/aD5Dza6tl3tU0KNMWZ0dBS0XbJqjL/TFXRkCELNEMR/MU39L+jIEISaIQg1QxBqhiDUDEGoGYJQMwTxC00385au/r2oAAAAAElFTkSuQmCC\" y=\"-6.670588\"/>\n   </g>\n  </g>\n </g>\n <defs>\n  <clipPath id=\"pa5d1f6da41\">\n   <rect height=\"98.470588\" width=\"98.470588\" x=\"7.2\" y=\"7.2\"/>\n  </clipPath>\n  <clipPath id=\"p600f0387ea\">\n   <rect height=\"98.470588\" width=\"98.470588\" x=\"125.364706\" y=\"7.2\"/>\n  </clipPath>\n  <clipPath id=\"pa3d85560d6\">\n   <rect height=\"98.470588\" width=\"98.470588\" x=\"243.529412\" y=\"7.2\"/>\n  </clipPath>\n </defs>\n</svg>\n",
      "image/png": "[encoded data removed]"
     },
     "metadata": {
      "needs_background": "light"
     }
    }
   ],
   "source": [
    "# plot u of convolution layer\n",
    "plt.figure()\n",
    "plt.gray()\n",
    "plt.subplot(1,3,1), plt.axis('off'), plt.imshow(u[0,:,:,0])\n",
    "plt.subplot(1,3,2), plt.axis('off'), plt.imshow(u[0,:,:,1])\n",
    "plt.subplot(1,3,3), plt.axis('off'), plt.imshow(u[0,:,:,2])"
   ]
  },
  {
   "cell_type": "code",
   "execution_count": 10,
   "metadata": {},
   "outputs": [
    {
     "output_type": "execute_result",
     "data": {
      "text/plain": "(<AxesSubplot:>,\n (0.0, 1.0, 0.0, 1.0),\n <matplotlib.image.AxesImage at 0x7f4cad347310>)"
     },
     "metadata": {},
     "execution_count": 10
    },
    {
     "output_type": "display_data",
     "data": {
      "text/plain": "<Figure size 432x288 with 3 Axes>",
      "image/svg+xml": "<?xml version=\"1.0\" encoding=\"utf-8\" standalone=\"no\"?>\n<!DOCTYPE svg PUBLIC \"-//W3C//DTD SVG 1.1//EN\"\n  \"http://www.w3.org/Graphics/SVG/1.1/DTD/svg11.dtd\">\n<!-- Created with matplotlib (https://matplotlib.org/) -->\n<svg height=\"112.870588pt\" version=\"1.1\" viewBox=\"0 0 349.2 112.870588\" width=\"349.2pt\" xmlns=\"http://www.w3.org/2000/svg\" xmlns:xlink=\"http://www.w3.org/1999/xlink\">\n <metadata>\n  <rdf:RDF xmlns:cc=\"http://creativecommons.org/ns#\" xmlns:dc=\"http://purl.org/dc/elements/1.1/\" xmlns:rdf=\"http://www.w3.org/1999/02/22-rdf-syntax-ns#\">\n   <cc:Work>\n    <dc:type rdf:resource=\"http://purl.org/dc/dcmitype/StillImage\"/>\n    <dc:date>2020-09-03T15:46:36.356458</dc:date>\n    <dc:format>image/svg+xml</dc:format>\n    <dc:creator>\n     <cc:Agent>\n      <dc:title>Matplotlib v3.3.1, https://matplotlib.org/</dc:title>\n     </cc:Agent>\n    </dc:creator>\n   </cc:Work>\n  </rdf:RDF>\n </metadata>\n <defs>\n  <style type=\"text/css\">*{stroke-linecap:butt;stroke-linejoin:round;}</style>\n </defs>\n <g id=\"figure_1\">\n  <g id=\"patch_1\">\n   <path d=\"M 0 112.870588 \nL 349.2 112.870588 \nL 349.2 0 \nL 0 0 \nz\n\" style=\"fill:none;\"/>\n  </g>\n  <g id=\"axes_1\">\n   <g clip-path=\"url(#pf70961450a)\">\n    <image height=\"99\" id=\"image897c0ce5ab\" transform=\"scale(1 -1)translate(0 -99)\" width=\"99\" x=\"7.2\" xlink:href=\"data:image/png;base64,\niVBORw0KGgoAAAANSUhEUgAAAGMAAABjCAYAAACPO76VAAACoklEQVR4nO3dr4oyURjH8fEvstjcYNA1CBYRm1v2BsQmgjcgeAlbxAuwGLwGywaLJqvRYHCL1S4YNYhvfNN5RuY4+IP9furDmRn47oE5u+5uYjQa3QNISL76AfAfMYQQQwgxhBBDCDGEEENI2mfx7XYz58vl0jn7/f31uXVQqVScs3a7ba59f3/3undc2BlCiCGEGEKIIYQYQoghxOvVtlqtmvP9fu9z+cjud/unAv1+35zXajXnLJFIRHqmR7AzhBBDCDGEEEMIMYQQQwgxhHidMzqdzrOe46nCzgI/Pz/mfLPZOGfr9TrSMz2CnSGEGEKIIYQYQoghhBhCvF5tc7lc5LVhnyxZLBbmvNfrOWe+3+b++vpyzur1url2Op1Gvi87QwgxhBBDCDGEEEMIMYQQQ8jLzhnJpP11UC6Xzfl4PHbOms2mubbb7Zpz69my2ay51gc7QwgxhBBDCDGEEEMIMYQQQ4jXOeNyuZhz6xwS9jOHUqkU6ZmCIAjO57M5D/uVgVdhZwghhhBiCCGGEGIIIYYQr1fbw+Fgzj8/PyNfu1gsmvPT6eScfXx8RL5vmLDXeR/sDCHEEEIMIcQQQgwhxBBCDCFe54zVamXOG42Gc/b29mauTaftR5tMJs7ZbDYz1/ooFAqxXZudIYQYQoghhBhCiCGEGEKIIcTrnBFmPp87Z4PBwFwb9lGefD7vnH1/f5trfT6qc71eI68Nw84QQgwhxBBCDCHEEEIMIbG+2h6PR+dsu92aa1utVuT7hv0mrY9UKhXbtdkZQoghhBhCiCGEGEKIIYQYQmI9Z1is//saBEGw2+3M+XA4fObjPCyTycR2bXaGEGIIIYYQYgghhhBiCEmMRiPNv2ryB7EzhBBDCDGEEEMIMYQQQwgxhPwDXkdZCmEs0P4AAAAASUVORK5CYII=\" y=\"-6.670588\"/>\n   </g>\n  </g>\n  <g id=\"axes_2\">\n   <g clip-path=\"url(#p7fb303292c)\">\n    <image height=\"99\" id=\"image1731be0281\" transform=\"scale(1 -1)translate(0 -99)\" width=\"99\" x=\"125.364706\" xlink:href=\"data:image/png;base64,\niVBORw0KGgoAAAANSUhEUgAAAGMAAABjCAYAAACPO76VAAACLUlEQVR4nO3bL47qUBhA8QJP4XCg2QCrICEBHJJlYJAINBvAsARCSNAsAIdEEiwCx5+Ro/qR106H8/rOz35pe4eTm/QSppIkySsRQvXTC9A3Y4AYA8QYIMYAMQaIMUD+fHoBaUajUTjvdDqps9PpFF67XC6zLKlw7gwQY4AYA8QYIMYAMQZIJcnxFfr5fA7nrVYr660Ldb/fw/lkMkmdLRaLH17NN3cGiDFAjAFiDBBjgBgDxBgguc4Zj8cjnFer5WvdbrfD+buv7yPl+7T+YcYAMQaIMUCMAWIMEOyr7Xw+D+fT6TTzvfN4Pp/hvFarZb63OwPEGCDGADEGiDFAjAFiDBDsOeNyuYTz6GdAq9UqvHY8HmdaU5IkyesVf1x5/mZ3BogxQIwBYgwQY4AYA8QYILn+2/V6vYbzRqOR+d7NZjPz/HA4hNfmOWdUKpXM177jzgAxBogxQIwBYgwQY4DkerXd7/fhfDgc5rl96Hg8ps5ms1lhzy2SOwPEGCDGADEGiDFAjAFiDJBcP9V553a7pc7q9XpRj002m0047/f7hT07z1fs7gwQY4AYA8QYIMYAMQaIMUAKPWcMBoPU2Xq9LuqxH+U5oySMAWIMEGOAGAPEGCCFvtpGttttOO/1er+0kp/lq21JGAPEGCDGADEGiDFAjAHysXPGO91uN5zvdrtfWsnf8ZxREsYAMQaIMUCMAWIMEOyr7f/InQFiDBBjgBgDxBggxgAxBsgXdrhSESyBJS0AAAAASUVORK5CYII=\" y=\"-6.670588\"/>\n   </g>\n  </g>\n  <g id=\"axes_3\">\n   <g clip-path=\"url(#pbc7153822e)\">\n    <image height=\"99\" id=\"imagef0f0b85ac3\" transform=\"scale(1 -1)translate(0 -99)\" width=\"99\" x=\"243.529412\" xlink:href=\"data:image/png;base64,\niVBORw0KGgoAAAANSUhEUgAAAGMAAABjCAYAAACPO76VAAACQElEQVR4nO3cPYrqUBxA8Rt9aqO4AZdhpYtwH2JnK6KF4Aas3YJrELFxHXYWFlbixysfr8gN5E5mDuP5tX/yMZy5kMRoFkJ4ByHUfvoE9I8xQIwBYgwQY4AYA8QYIH9SNp5Op9H5bDbLnbVarei29Xo9Os+yLHf2fD6j2y6Xy+h8vV5H51VxZYAYA8QYIMYAMQaIMUCykPAI/fF4ROdFl6dUx+MxdzYcDis7risDxBggxgAxBogxQIwBYgyQpPuM9/vz3vKJfSwQQgir1ar0vl0ZIMYAMQaIMUCMAWIMEOyl7WKxiM7n83nurFar7n+s6GODRqNRet+uDBBjgBgDxBggxgAxBogxQJLuM16vV3znkTfFi9xut+i80+nkzna7XXTb0WhU5pRCCMV/c8rrSa4MEGOAGAPEGCDGADEGiDFAkr7tej6fo/Ner1d63+12OzofDAa5s8vlUvq4RVLunYq4MkCMAWIMEGOAGAPEGCBJl7ZFj6onk0nK7qP2+33ubLvdVnZcL20/hDFAjAFiDBBjgBgDxBggSa/qFLler7mzbrdb1WHD/X6PzpvNZmXHTrkPcWWAGAPEGCDGADEGiDFAjAFS6X1G7JcuD4dDVYetVNHXrVO+9uzKADEGiDFAjAFiDBBjgFR6aRuz2Wyi8/F4/E1n8rV8hP5LGAPEGCDGADEGiDFAjAHyY/cZRfr9fnR+Op2+6Uz+5yP0D2EMEGOAGAPEGCDGAMFe2n4iVwaIMUCMAWIMEGOAGAPEGCB/AUncV8+kLhenAAAAAElFTkSuQmCC\" y=\"-6.670588\"/>\n   </g>\n  </g>\n </g>\n <defs>\n  <clipPath id=\"pf70961450a\">\n   <rect height=\"98.470588\" width=\"98.470588\" x=\"7.2\" y=\"7.2\"/>\n  </clipPath>\n  <clipPath id=\"p7fb303292c\">\n   <rect height=\"98.470588\" width=\"98.470588\" x=\"125.364706\" y=\"7.2\"/>\n  </clipPath>\n  <clipPath id=\"pbc7153822e\">\n   <rect height=\"98.470588\" width=\"98.470588\" x=\"243.529412\" y=\"7.2\"/>\n  </clipPath>\n </defs>\n</svg>\n",
      "image/png": "[encoded data removed]"
     },
     "metadata": {
      "needs_background": "light"
     }
    }
   ],
   "source": [
    "# plot output o of pooling layer\n",
    "plt.figure()\n",
    "plt.gray()\n",
    "plt.subplot(1,3,1), plt.axis('off'), plt.imshow(o[0,:,:,0])\n",
    "plt.subplot(1,3,2), plt.axis('off'), plt.imshow(o[0,:,:,1])\n",
    "plt.subplot(1,3,3), plt.axis('off'), plt.imshow(o[0,:,:,2])"
   ]
  },
  {
   "cell_type": "code",
   "execution_count": null,
   "metadata": {},
   "outputs": [],
   "source": []
  }
 ]
}