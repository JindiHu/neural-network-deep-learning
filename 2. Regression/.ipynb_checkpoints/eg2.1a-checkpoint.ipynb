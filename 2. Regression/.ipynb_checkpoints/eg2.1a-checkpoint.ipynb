{
 "cells": [
  {
   "cell_type": "markdown",
   "metadata": {},
   "source": [
    "# Chapter 2, Example 1"
   ]
  },
  {
   "cell_type": "code",
   "execution_count": 1,
   "metadata": {},
   "outputs": [],
   "source": [
    "import tensorflow as tf\n",
    "import numpy as np\n",
    "import matplotlib.pylab as plt\n",
    "from mpl_toolkits.mplot3d import Axes3D\n",
    "\n",
    "import os\n",
    "if not os.path.isdir('figures'):\n",
    "\tos.makedirs('figures')"
   ]
  },
  {
   "cell_type": "code",
   "execution_count": 2,
   "metadata": {},
   "outputs": [],
   "source": [
    "# set parameters\n",
    "no_epochs = 200 #number of epoches\n",
    "lr = 0.01 #learning facotor\n",
    "\n",
    "SEED = 10\n",
    "np.random.seed(SEED)"
   ]
  },
  {
   "cell_type": "code",
   "execution_count": 3,
   "metadata": {},
   "outputs": [
    {
     "name": "stdout",
     "output_type": "stream",
     "text": [
      "X: [[ 0.54264129 -0.9584961 ]\n",
      " [ 0.26729647  0.49760777]\n",
      " [-0.00298598 -0.55040671]\n",
      " [-0.60387427  0.52106142]\n",
      " [-0.66177833 -0.82332037]\n",
      " [ 0.37071964  0.90678669]]\n",
      "Y: [ 1.32732389  0.45457668  0.5637576  -1.66017471 -1.06558327  0.303607  ]\n"
     ]
    }
   ],
   "source": [
    "# generate training data\n",
    "X = 2*np.random.rand(6, 2) - 1\n",
    "Y = np.dot(X, [2.53, -0.47]) + np.random.rand(6) - 0.5\n",
    "\n",
    "print('X: {}'.format(X))\n",
    "print('Y: {}'.format(Y))"
   ]
  },
  {
   "cell_type": "code",
   "execution_count": 4,
   "metadata": {},
   "outputs": [],
   "source": [
    "# class for a linear neuron\n",
    "class Linear(object):\n",
    "  def __init__(self):\n",
    "    self.w = tf.Variable(np.random.rand(2), dtype=tf.float64)\n",
    "    self.b = tf.Variable(0., dtype=tf.float64)\n",
    "\n",
    "  def __call__(self, x):\n",
    "    return tf.tensordot(x ,self.w, axes=1) + self.b"
   ]
  },
  {
   "cell_type": "code",
   "execution_count": 5,
   "metadata": {},
   "outputs": [],
   "source": [
    "# squared error as the loss function\n",
    "def loss(predicted_y, target_y):\n",
    "  return tf.square(predicted_y - target_y)"
   ]
  },
  {
   "cell_type": "code",
   "execution_count": 6,
   "metadata": {},
   "outputs": [],
   "source": [
    "# funtion executing a training step\n",
    "def train_step(model, x, d, learning_rate):\n",
    "    y = model(x)\n",
    "    grad_w = -(d - y)*x\n",
    "    grad_b = -(d - y)\n",
    "    model.w.assign(model.w - learning_rate * grad_w)\n",
    "    model.b.assign(model.b - learning_rate * grad_b)"
   ]
  },
  {
   "cell_type": "markdown",
   "metadata": {},
   "source": [
    "The main function to train the neuron starts here"
   ]
  },
  {
   "cell_type": "code",
   "execution_count": 7,
   "metadata": {},
   "outputs": [
    {
     "name": "stdout",
     "output_type": "stream",
     "text": [
      "w: [0.91777412 0.71457578], b: 0.0\n"
     ]
    }
   ],
   "source": [
    "model = Linear()\n",
    "print('w: {}, b: {}'.format(model.w.numpy(), model.b.numpy()))"
   ]
  },
  {
   "cell_type": "code",
   "execution_count": 8,
   "metadata": {},
   "outputs": [
    {
     "name": "stdout",
     "output_type": "stream",
     "text": [
      "iter: 1\n",
      "p: 1\n",
      "x:[ 0.54264129 -0.9584961 ], d:1.3273238888598116\n",
      "y: -0.18689597186907325\n",
      "se: 2.2928617866258034\n",
      "w: [0.9259909  0.70006205], b: 0.015142198607288848\n",
      "iter: 1\n",
      "p: 2\n",
      "x:[-0.66177833 -0.82332037], d:-1.0655832748853409\n",
      "y: -1.1740338560954893\n",
      "se: 0.01176152856481899\n",
      "w: [0.9252732  0.69916915], b: 0.016226704419390333\n",
      "iter: 1\n",
      "p: 3\n",
      "x:[-0.00298598 -0.55040671], d:0.5637575971042241\n",
      "y: -0.3713635290750258\n",
      "se: 0.8744515206267487\n",
      "w: [0.92524528 0.69402218], b: 0.025577915681182832\n",
      "iter: 1\n",
      "p: 4\n",
      "x:[0.26729647 0.49760777], d:0.454576682526435\n",
      "y: 0.6182435385635896\n",
      "se: 0.026786839765086685\n",
      "w: [0.9248078  0.69320776], b: 0.023941247120811287\n",
      "iter: 1\n",
      "p: 5\n",
      "x:[-0.60387427  0.52106142], d:-1.6601747069539354\n",
      "y: -0.1733225675290139\n",
      "se: 2.210729284512466\n",
      "w: [0.93378652 0.68546035], b: 0.009072725726562073\n",
      "iter: 1\n",
      "p: 6\n",
      "x:[0.37071964 0.90678669], d:0.30360700368844684\n",
      "y: 0.9768120474957712\n",
      "se: 0.45320503100762155\n",
      "w: [0.93129082 0.67935581], b: 0.0023406752884888287\n",
      "iter:   0, mse: 0.9783\n",
      "iter:  10, mse: 0.6132\n",
      "iter:  20, mse: 0.4044\n",
      "iter:  30, mse: 0.2802\n",
      "iter:  40, mse: 0.2035\n",
      "iter:  50, mse: 0.1542\n",
      "iter:  60, mse: 0.1213\n",
      "iter:  70, mse: 0.0986\n",
      "iter:  80, mse: 0.0825\n",
      "iter:  90, mse: 0.0708\n",
      "iter: 100, mse: 0.0622\n",
      "iter: 110, mse: 0.0557\n",
      "iter: 120, mse: 0.0509\n",
      "iter: 130, mse: 0.0472\n",
      "iter: 140, mse: 0.0444\n",
      "iter: 150, mse: 0.0423\n",
      "iter: 160, mse: 0.0406\n",
      "iter: 170, mse: 0.0393\n",
      "iter: 180, mse: 0.0384\n",
      "iter: 190, mse: 0.0376\n"
     ]
    }
   ],
   "source": [
    "# keep an index for training\n",
    "idx = np.arange(len(X))\n",
    "\n",
    "err = []\n",
    "for epoch in range(no_epochs):\n",
    "  np.random.shuffle(idx)\n",
    "  X, Y = X[idx], Y[idx]\n",
    "    \n",
    "  err_ = []\n",
    "  for p in np.arange(len(X)):\n",
    "    \n",
    "    y_ = model(X[p])\n",
    "    loss_ = loss(y_, Y[p])\n",
    "    \n",
    "    train_step(model, X[p], Y[p], learning_rate=lr)\n",
    "    \n",
    "    err_.append(loss_)\n",
    "    \n",
    "    if epoch == 0:\n",
    "      print('iter: {}'.format(epoch+1))\n",
    "      print('p: {}'.format(p+1))\n",
    "      print('x:{}, d:{}'.format(X[p], Y[p]))\n",
    "      print('y: {}'.format(y_))\n",
    "      print('se: {}'.format(loss_))\n",
    "      print('w: {}, b: {}'.format(model.w.numpy(), model.b.numpy()))\n",
    " \n",
    "  err.append(np.mean(err_))\n",
    "  if epoch%10 == 0:\n",
    "        print('iter: %3d, mse: %1.4f'%(epoch, err[epoch]))"
   ]
  },
  {
   "cell_type": "code",
   "execution_count": 9,
   "metadata": {},
   "outputs": [
    {
     "name": "stdout",
     "output_type": "stream",
     "text": [
      "w: [ 2.0039268  -0.43821058], b: -0.01306652965151331\n"
     ]
    }
   ],
   "source": [
    "# print learned weights\n",
    "print('w: %s, b: %s'%(model.w.numpy(), model.b.numpy()))"
   ]
  },
  {
   "cell_type": "code",
   "execution_count": 10,
   "metadata": {},
   "outputs": [
    {
     "data": {
      "image/png": "[encoded data removed]",
      "text/plain": [
       "<Figure size 432x288 with 1 Axes>"
      ]
     },
     "metadata": {
      "needs_background": "light"
     },
     "output_type": "display_data"
    }
   ],
   "source": [
    "# print learning curve\n",
    "plt.figure(1)\n",
    "plt.plot(range(no_epochs), err)\n",
    "plt.xlabel('epochs')\n",
    "plt.ylabel('mse')\n",
    "plt.savefig('./figures/2.1_1.png')"
   ]
  },
  {
   "cell_type": "code",
   "execution_count": 11,
   "metadata": {},
   "outputs": [
    {
     "name": "stdout",
     "output_type": "stream",
     "text": [
      "[1.4943700199495646, 0.2221438365448906, -0.9784341602912335, 0.33246496583048146, 0.30451904408553443, -1.4515209942174456]\n"
     ]
    }
   ],
   "source": [
    "pred = []\n",
    "for p in np.arange(len(X)):\n",
    "\tpred.append(model(X[p]).numpy())\n",
    "\n",
    "print(pred)"
   ]
  },
  {
   "cell_type": "code",
   "execution_count": 12,
   "metadata": {},
   "outputs": [
    {
     "data": {
      "image/png": "[encoded data removed]",
      "text/plain": [
       "<Figure size 432x288 with 1 Axes>"
      ]
     },
     "metadata": {
      "needs_background": "light"
     },
     "output_type": "display_data"
    }
   ],
   "source": [
    "#print targets and predictions\n",
    "fig = plt.figure(2)\n",
    "ax = fig.gca(projection = '3d')\n",
    "plot_original = ax.scatter(X[:,0], X[:,1], Y, c='blue', label='targets')\n",
    "plot_pred = ax.scatter(X[:,0], X[:,1], pred, c='orange', label='predicted')\n",
    "X1 = np.arange(-1, 1, 0.1)\n",
    "X2 = np.arange(-1, 1, 0.1)\n",
    "X1,X2 = np.meshgrid(X1,X2)\n",
    "Z = model.w.numpy()[0]*X1 + model.w.numpy()[1]*X2 + model.b.numpy()\n",
    "regression_plane = ax.plot_surface(X1, X2, Z)\n",
    "ax.set_zticks([ -2, -1, 0, 1])\n",
    "ax.set_xticks([-0.5, 0, 0.5])\n",
    "ax.set_yticks([-0.5, 0, 0.5])\n",
    "ax.set_xlabel('$x_1$')\n",
    "ax.set_ylabel('$x_2$')\n",
    "ax.set_zlabel('$y$')\n",
    "plt.legend()\n",
    "plt.savefig('./figures/2.1_2.png')"
   ]
  },
  {
   "cell_type": "code",
   "execution_count": null,
   "metadata": {},
   "outputs": [],
   "source": []
  }
 ],
 "metadata": {
  "kernelspec": {
   "display_name": "Python 3",
   "language": "python",
   "name": "python3"
  },
  "language_info": {
   "codemirror_mode": {
    "name": "ipython",
    "version": 3
   },
   "file_extension": ".py",
   "mimetype": "text/x-python",
   "name": "python",
   "nbconvert_exporter": "python",
   "pygments_lexer": "ipython3",
   "version": "3.7.6"
  }
 },
 "nbformat": 4,
 "nbformat_minor": 2
}
