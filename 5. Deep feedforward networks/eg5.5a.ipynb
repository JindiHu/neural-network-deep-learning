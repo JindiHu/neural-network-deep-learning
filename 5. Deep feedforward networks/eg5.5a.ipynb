{
 "cells": [
  {
   "cell_type": "markdown",
   "metadata": {},
   "source": [
    "# Chapter 5, Example 5"
   ]
  },
  {
   "cell_type": "code",
   "execution_count": 1,
   "metadata": {},
   "outputs": [],
   "source": [
    "import tensorflow as tf\n",
    "from tensorflow.keras import Sequential\n",
    "from tensorflow.keras.layers import Flatten, Dense\n",
    "from tensorflow.keras.callbacks import Callback\n",
    "import tensorflow.keras.datasets.mnist as mnist\n",
    "\n",
    "# Helper libraries\n",
    "import numpy as np\n",
    "import matplotlib.pyplot as plt\n",
    "import time"
   ]
  },
  {
   "cell_type": "code",
   "execution_count": 2,
   "metadata": {},
   "outputs": [],
   "source": [
    "batch_size = 128\n",
    "num_classes = 10\n",
    "no_epochs = 30"
   ]
  },
  {
   "cell_type": "code",
   "execution_count": 3,
   "metadata": {},
   "outputs": [],
   "source": [
    "(x_train, y_train), (x_test, y_test) = mnist.load_data()\n",
    "x_train, x_test = x_train / 255.0, x_test / 255.0"
   ]
  },
  {
   "cell_type": "code",
   "execution_count": 4,
   "metadata": {},
   "outputs": [],
   "source": [
    "model = Sequential([\n",
    "  Flatten(input_shape=(28, 28)),\n",
    "  Dense(625, activation='relu'),\n",
    "  Dense(100, activation='relu'),\n",
    "  Dense(10, activation='softmax')\n",
    "])\n",
    "\n",
    "model.compile(optimizer='sgd',\n",
    "              loss='sparse_categorical_crossentropy',\n",
    "              metrics=['accuracy'])"
   ]
  },
  {
   "cell_type": "code",
   "execution_count": 5,
   "metadata": {},
   "outputs": [],
   "source": [
    "class TimingCallback(Callback):\n",
    "    def __init__(self, logs={}):\n",
    "        self.times=[]\n",
    "    def on_train_batch_begin(self, batch, logs={}):\n",
    "        self.starttime = time.time()\n",
    "    def on_train_batch_end(self, batch, logs={}):\n",
    "        self.times.append(time.time()-self.starttime)\n",
    "\n",
    "cb = TimingCallback()"
   ]
  },
  {
   "cell_type": "code",
   "execution_count": 6,
   "metadata": {},
   "outputs": [
    {
     "name": "stdout",
     "output_type": "stream",
     "text": [
      "Epoch 1/30\n",
      "469/469 - 4s - loss: 1.0573 - accuracy: 0.7616 - val_loss: 0.4975 - val_accuracy: 0.8778\n",
      "Epoch 2/30\n",
      "469/469 - 3s - loss: 0.4314 - accuracy: 0.8879 - val_loss: 0.3568 - val_accuracy: 0.9024\n",
      "Epoch 3/30\n",
      "469/469 - 3s - loss: 0.3474 - accuracy: 0.9042 - val_loss: 0.3103 - val_accuracy: 0.9137\n",
      "Epoch 4/30\n",
      "469/469 - 3s - loss: 0.3091 - accuracy: 0.9130 - val_loss: 0.2814 - val_accuracy: 0.9203\n",
      "Epoch 5/30\n",
      "469/469 - 3s - loss: 0.2835 - accuracy: 0.9194 - val_loss: 0.2620 - val_accuracy: 0.9279\n",
      "Epoch 6/30\n",
      "469/469 - 3s - loss: 0.2640 - accuracy: 0.9253 - val_loss: 0.2472 - val_accuracy: 0.9319\n",
      "Epoch 7/30\n",
      "469/469 - 3s - loss: 0.2477 - accuracy: 0.9305 - val_loss: 0.2343 - val_accuracy: 0.9352\n",
      "Epoch 8/30\n",
      "469/469 - 3s - loss: 0.2339 - accuracy: 0.9340 - val_loss: 0.2225 - val_accuracy: 0.9371\n",
      "Epoch 9/30\n",
      "469/469 - 3s - loss: 0.2217 - accuracy: 0.9377 - val_loss: 0.2123 - val_accuracy: 0.9401\n",
      "Epoch 10/30\n",
      "469/469 - 3s - loss: 0.2108 - accuracy: 0.9412 - val_loss: 0.2036 - val_accuracy: 0.9433\n",
      "Epoch 11/30\n",
      "469/469 - 3s - loss: 0.2008 - accuracy: 0.9438 - val_loss: 0.1944 - val_accuracy: 0.9442\n",
      "Epoch 12/30\n",
      "469/469 - 2s - loss: 0.1920 - accuracy: 0.9463 - val_loss: 0.1864 - val_accuracy: 0.9476\n",
      "Epoch 13/30\n",
      "469/469 - 3s - loss: 0.1839 - accuracy: 0.9488 - val_loss: 0.1794 - val_accuracy: 0.9486\n",
      "Epoch 14/30\n",
      "469/469 - 3s - loss: 0.1763 - accuracy: 0.9503 - val_loss: 0.1737 - val_accuracy: 0.9506\n",
      "Epoch 15/30\n",
      "469/469 - 3s - loss: 0.1694 - accuracy: 0.9526 - val_loss: 0.1671 - val_accuracy: 0.9518\n",
      "Epoch 16/30\n",
      "469/469 - 2s - loss: 0.1628 - accuracy: 0.9542 - val_loss: 0.1631 - val_accuracy: 0.9537\n",
      "Epoch 17/30\n",
      "469/469 - 2s - loss: 0.1568 - accuracy: 0.9561 - val_loss: 0.1573 - val_accuracy: 0.9547\n",
      "Epoch 18/30\n",
      "469/469 - 2s - loss: 0.1511 - accuracy: 0.9575 - val_loss: 0.1530 - val_accuracy: 0.9551\n",
      "Epoch 19/30\n",
      "469/469 - 3s - loss: 0.1457 - accuracy: 0.9590 - val_loss: 0.1491 - val_accuracy: 0.9568\n",
      "Epoch 20/30\n",
      "469/469 - 2s - loss: 0.1408 - accuracy: 0.9606 - val_loss: 0.1428 - val_accuracy: 0.9595\n",
      "Epoch 21/30\n",
      "469/469 - 2s - loss: 0.1362 - accuracy: 0.9619 - val_loss: 0.1389 - val_accuracy: 0.9594\n",
      "Epoch 22/30\n",
      "469/469 - 2s - loss: 0.1316 - accuracy: 0.9634 - val_loss: 0.1350 - val_accuracy: 0.9601\n",
      "Epoch 23/30\n",
      "469/469 - 2s - loss: 0.1274 - accuracy: 0.9644 - val_loss: 0.1327 - val_accuracy: 0.9611\n",
      "Epoch 24/30\n",
      "469/469 - 2s - loss: 0.1236 - accuracy: 0.9655 - val_loss: 0.1300 - val_accuracy: 0.9616\n",
      "Epoch 25/30\n",
      "469/469 - 2s - loss: 0.1199 - accuracy: 0.9668 - val_loss: 0.1268 - val_accuracy: 0.9621\n",
      "Epoch 26/30\n",
      "469/469 - 2s - loss: 0.1162 - accuracy: 0.9675 - val_loss: 0.1240 - val_accuracy: 0.9637\n",
      "Epoch 27/30\n",
      "469/469 - 2s - loss: 0.1128 - accuracy: 0.9689 - val_loss: 0.1206 - val_accuracy: 0.9643\n",
      "Epoch 28/30\n",
      "469/469 - 2s - loss: 0.1096 - accuracy: 0.9698 - val_loss: 0.1179 - val_accuracy: 0.9645\n",
      "Epoch 29/30\n",
      "469/469 - 2s - loss: 0.1066 - accuracy: 0.9705 - val_loss: 0.1155 - val_accuracy: 0.9657\n",
      "Epoch 30/30\n",
      "469/469 - 2s - loss: 0.1036 - accuracy: 0.9715 - val_loss: 0.1146 - val_accuracy: 0.9662\n"
     ]
    }
   ],
   "source": [
    "history = model.fit(x_train, y_train,\n",
    "                    batch_size=batch_size,\n",
    "                    epochs=no_epochs,\n",
    "                    verbose=2,\n",
    "                    use_multiprocessing=True,\n",
    "                    callbacks = [cb],\n",
    "                    validation_data=(x_test, y_test))"
   ]
  },
  {
   "cell_type": "code",
   "execution_count": 7,
   "metadata": {},
   "outputs": [
    {
     "name": "stdout",
     "output_type": "stream",
     "text": [
      "time for a weight update: 0.00484098 s\n"
     ]
    }
   ],
   "source": [
    "print('time for a weight update: %g s'%np.average(cb.times))"
   ]
  },
  {
   "cell_type": "code",
   "execution_count": 8,
   "metadata": {},
   "outputs": [
    {
     "data": {
      "image/png": "[encoded data removed]",
      "text/plain": [
       "<Figure size 432x288 with 1 Axes>"
      ]
     },
     "metadata": {
      "needs_background": "light"
     },
     "output_type": "display_data"
    },
    {
     "data": {
      "image/png": "[encoded data removed]",
      "text/plain": [
       "<Figure size 432x288 with 1 Axes>"
      ]
     },
     "metadata": {
      "needs_background": "light"
     },
     "output_type": "display_data"
    }
   ],
   "source": [
    "# summarize history for accuracy\n",
    "plt.figure(1)\n",
    "plt.plot(history.history['accuracy'])\n",
    "plt.plot(history.history['val_accuracy'])\n",
    "plt.title('model accuracy')\n",
    "plt.ylabel('accuracy')\n",
    "plt.xlabel('epoch')\n",
    "plt.xticks([5, 10, 15, 20, 25, 30])\n",
    "plt.legend(['train', 'test'], loc='upper left')\n",
    "plt.savefig('figures/5.5a_1.png')\n",
    "\n",
    "# summarize history for loss\n",
    "plt.figure(2)\n",
    "plt.plot(history.history['loss'])\n",
    "plt.plot(history.history['val_loss'])\n",
    "plt.title('model loss')\n",
    "plt.ylabel('cross-entropy')\n",
    "plt.xlabel('epoch')\n",
    "plt.xticks([5, 10, 15, 20, 25, 30])\n",
    "plt.legend(['train', 'test'], loc='upper left')\n",
    "plt.savefig('figures/5.5a_2.png')"
   ]
  },
  {
   "cell_type": "code",
   "execution_count": null,
   "metadata": {},
   "outputs": [],
   "source": []
  }
 ],
 "metadata": {
  "kernelspec": {
   "display_name": "Python 3",
   "language": "python",
   "name": "python3"
  },
  "language_info": {
   "codemirror_mode": {
    "name": "ipython",
    "version": 3
   },
   "file_extension": ".py",
   "mimetype": "text/x-python",
   "name": "python",
   "nbconvert_exporter": "python",
   "pygments_lexer": "ipython3",
   "version": "3.8.5"
  }
 },
 "nbformat": 4,
 "nbformat_minor": 2
}
