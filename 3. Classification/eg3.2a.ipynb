{
 "cells": [
  {
   "cell_type": "markdown",
   "metadata": {},
   "source": [
    "# Chapter 3, Example 2"
   ]
  },
  {
   "cell_type": "code",
   "execution_count": 1,
   "metadata": {},
   "outputs": [],
   "source": [
    "import tensorflow as tf\n",
    "import numpy as np\n",
    "import pylab as plt\n",
    "from mpl_toolkits.mplot3d import Axes3D\n",
    "\n",
    "import os\n",
    "if not os.path.isdir('figures'):\n",
    "\tos.makedirs('figures')"
   ]
  },
  {
   "cell_type": "code",
   "execution_count": 2,
   "metadata": {},
   "outputs": [],
   "source": [
    "no_epochs = 500\n",
    "lr = 0.4\n",
    "\n",
    "SEED = 10\n",
    "np.random.seed(SEED)"
   ]
  },
  {
   "cell_type": "code",
   "execution_count": 3,
   "metadata": {},
   "outputs": [
    {
     "data": {
      "image/png": "[encoded data removed]",
      "text/plain": [
       "<Figure size 432x288 with 1 Axes>"
      ]
     },
     "metadata": {
      "needs_background": "light"
     },
     "output_type": "display_data"
    }
   ],
   "source": [
    "# training data\n",
    "X = np.array([[1.33, 0.72], [-1.55, -0.01], [0.62, -0.72],\n",
    "    [0.27, 0.11], [0.0, -0.17], [0.43, 1.2], [-0.97, 1.03], [0.23, 0.45]])\n",
    "Y = np.array([0, 1, 1, 1, 1, 0, 0, 0]).reshape(8,1)\n",
    "\n",
    "# plot training data\n",
    "plt.figure(1)\n",
    "plt.plot(X[Y[:,0]==1,0], X[Y[:,0]==1,1],'bx', label ='class A')\n",
    "plt.plot(X[Y[:,0]==0,0], X[Y[:,0]==0,1],'ro', label='class B')\n",
    "plt.xlabel('$x_1$')\n",
    "plt.ylabel('$x_2$')\n",
    "plt.title('training data')\n",
    "plt.legend()\n",
    "plt.savefig('./figures/3.2a_1.png')"
   ]
  },
  {
   "cell_type": "code",
   "execution_count": 4,
   "metadata": {},
   "outputs": [],
   "source": [
    "class Logistic():\n",
    "  def __init__(self):\n",
    "    self.w = tf.Variable(np.random.rand(2,1), dtype=tf.float64)\n",
    "    self.b = tf.Variable([0.], dtype=tf.float64)\n",
    "\n",
    "  def __call__(self, x):\n",
    "    u = tf.matmul(x, self.w) + self.b\n",
    "    f_u = tf.sigmoid(u)\n",
    "    return u, f_u"
   ]
  },
  {
   "cell_type": "code",
   "execution_count": 5,
   "metadata": {},
   "outputs": [],
   "source": [
    "def loss(targets, logits):\n",
    "  d_float = tf.cast(targets, tf.float64)\n",
    "  losses = -tf.reduce_sum(d_float*tf.math.log(logits) + (1-d_float)*tf.math.log(1-logits))\n",
    "  class_err = tf.reduce_sum(tf.cast(tf.not_equal(logits > 0.5, targets), tf.int32))\n",
    "  return losses, class_err"
   ]
  },
  {
   "cell_type": "code",
   "execution_count": 6,
   "metadata": {},
   "outputs": [],
   "source": [
    "def train(model, inputs, targets, learning_rate):\n",
    "  _, f_u = model(inputs)\n",
    "  d_float = tf.cast(targets, tf.float64)\n",
    "  \n",
    "  grad_u = -(d_float - f_u)\n",
    "  grad_w = tf.matmul(tf.transpose(inputs), grad_u)\n",
    "  grad_b = tf.reduce_sum(grad_u)\n",
    "  \n",
    "  model.w.assign(model.w - learning_rate * grad_w)\n",
    "  model.b.assign(model.b - learning_rate * grad_b)"
   ]
  },
  {
   "cell_type": "code",
   "execution_count": 7,
   "metadata": {},
   "outputs": [
    {
     "name": "stdout",
     "output_type": "stream",
     "text": [
      "w: [[0.77132064]\n",
      " [0.02075195]], b: [0.]\n"
     ]
    }
   ],
   "source": [
    "model = Logistic()\n",
    "\n",
    "print('w: {}, b: {}'.format(model.w.numpy(), model.b.numpy()))"
   ]
  },
  {
   "cell_type": "code",
   "execution_count": 8,
   "metadata": {},
   "outputs": [
    {
     "name": "stdout",
     "output_type": "stream",
     "text": [
      "u:[[ 1.04079786]\n",
      " [-1.19575452]\n",
      " [ 0.4632774 ]\n",
      " [ 0.21053929]\n",
      " [-0.00352783]\n",
      " [ 0.35657022]\n",
      " [-0.72680652]\n",
      " [ 0.18674213]]\n",
      "f_u:[[0.73900392]\n",
      " [0.23223133]\n",
      " [0.61379138]\n",
      " [0.55244125]\n",
      " [0.49911804]\n",
      " [0.58820993]\n",
      " [0.32589591]\n",
      " [0.54655033]]\n",
      "y: %d\n",
      "entropy:6.652175570630012\n",
      "error:5\n",
      "w: [[ 0.02126293]\n",
      " [-0.83573667]], b: [-0.03889683]\n",
      "Epoch  0:  entropy: 6.65218, error: 5\n",
      "Epoch 100:  entropy: 0.46219, error: 0\n",
      "Epoch 200:  entropy: 0.30571, error: 0\n",
      "Epoch 300:  entropy: 0.23153, error: 0\n",
      "Epoch 400:  entropy: 0.18663, error: 0\n"
     ]
    }
   ],
   "source": [
    "entropy, err = [], []\n",
    "for epoch in range(no_epochs):\n",
    "\n",
    "  u_, f_u_ = model(X)\n",
    "  entropy_, err_ = loss(Y, f_u_)\n",
    "  entropy.append(entropy_), err.append(err_)\n",
    "  \n",
    "  train(model, X, Y, learning_rate=lr)\n",
    "\n",
    "  if (epoch == 0):\n",
    "    print('u:{}'.format(u_))\n",
    "    print('f_u:{}'.format(f_u_))\n",
    "    print('y: %d'.format((f_u_ > 0.5).numpy().astype(int)))\n",
    "    print('entropy:{}'.format(entropy_))\n",
    "    print('error:{}'.format(err_))\n",
    "    print('w: {}, b: {}'.format(model.w.numpy(), model.b.numpy()))\n",
    "\n",
    "  if epoch%100 == 0:\n",
    "      print('Epoch %2d:  entropy: %2.5f, error: %d'%(epoch, entropy[-1], err[-1]))"
   ]
  },
  {
   "cell_type": "code",
   "execution_count": 9,
   "metadata": {},
   "outputs": [
    {
     "name": "stdout",
     "output_type": "stream",
     "text": [
      "w: [[ -1.19890942]\n",
      " [-15.02004335]], b: [4.47257815]\n",
      "entropy: 0.15653, error: 0\n"
     ]
    }
   ],
   "source": [
    "# print learned weights and error\n",
    "print('w: %s, b: %s'%(model.w.numpy(), model.b.numpy()))\n",
    "print('entropy: %2.5f, error: %d'%(entropy[-1], err[-1]))"
   ]
  },
  {
   "cell_type": "code",
   "execution_count": 10,
   "metadata": {},
   "outputs": [
    {
     "data": {
      "image/png": "[encoded data removed]",
      "text/plain": [
       "<Figure size 432x288 with 1 Axes>"
      ]
     },
     "metadata": {
      "needs_background": "light"
     },
     "output_type": "display_data"
    },
    {
     "data": {
      "image/png": "[encoded data removed]",
      "text/plain": [
       "<Figure size 432x288 with 1 Axes>"
      ]
     },
     "metadata": {
      "needs_background": "light"
     },
     "output_type": "display_data"
    }
   ],
   "source": [
    "# plot learning curves\n",
    "plt.figure(2)\n",
    "plt.plot(range(no_epochs), entropy)\n",
    "plt.xlabel('epochs')\n",
    "plt.ylabel('cross-entropy')\n",
    "plt.savefig('./figures/3.2a_2.png')\n",
    "\n",
    "plt.figure(3)\n",
    "plt.plot(range(25), np.array(err)[:25])\n",
    "plt.xlabel('epochs')\n",
    "plt.ylabel('classification error')\n",
    "plt.savefig('./figures/3.2a_3.png')"
   ]
  },
  {
   "cell_type": "code",
   "execution_count": 11,
   "metadata": {},
   "outputs": [
    {
     "data": {
      "image/png": "[encoded data removed]",
      "text/plain": [
       "<Figure size 432x288 with 1 Axes>"
      ]
     },
     "metadata": {
      "needs_background": "light"
     },
     "output_type": "display_data"
    }
   ],
   "source": [
    "# plot the decision boundary\n",
    "x1 = np.arange(-2, 2, 0.1)\n",
    "x2 = -(x1*model.w.numpy()[0] + model.b.numpy())/model.w.numpy()[1]\n",
    "\n",
    "plt.figure(4)\n",
    "plt.plot(X[Y[:,0]==1,0], X[Y[:,0]==1,1],'bx', label ='class A')\n",
    "plt.plot(X[Y[:,0]==0,0],X[Y[:,0]==0,1],'ro', label='class B')\n",
    "plt.plot(x1, x2, '-')\n",
    "plt.xlabel('$x_1$')\n",
    "plt.ylabel('$x_2$')\n",
    "plt.title('decision boundary')\n",
    "plt.legend()\n",
    "plt.savefig('./figures/3.2a_4.png')"
   ]
  },
  {
   "cell_type": "code",
   "execution_count": null,
   "metadata": {},
   "outputs": [],
   "source": []
  }
 ],
 "metadata": {
  "kernelspec": {
   "display_name": "Python 3",
   "language": "python",
   "name": "python3"
  },
  "language_info": {
   "codemirror_mode": {
    "name": "ipython",
    "version": 3
   },
   "file_extension": ".py",
   "mimetype": "text/x-python",
   "name": "python",
   "nbconvert_exporter": "python",
   "pygments_lexer": "ipython3",
   "version": "3.7.6"
  }
 },
 "nbformat": 4,
 "nbformat_minor": 2
}
