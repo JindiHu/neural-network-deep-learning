{
 "cells": [
  {
   "cell_type": "markdown",
   "metadata": {},
   "source": [
    "# Chapter 3, example 1"
   ]
  },
  {
   "cell_type": "code",
   "execution_count": 1,
   "metadata": {},
   "outputs": [],
   "source": [
    "import tensorflow as tf\n",
    "import numpy as np\n",
    "import pylab as plt\n",
    "from mpl_toolkits.mplot3d import Axes3D\n",
    "\n",
    "import os\n",
    "if not os.path.isdir('figures'):\n",
    "    os.makedirs('figures')"
   ]
  },
  {
   "cell_type": "code",
   "execution_count": 2,
   "metadata": {},
   "outputs": [],
   "source": [
    "no_iters = 30\n",
    "lr = 0.4\n",
    "\n",
    "SEED = 10\n",
    "np.random.seed(SEED)"
   ]
  },
  {
   "cell_type": "code",
   "execution_count": 3,
   "metadata": {},
   "outputs": [
    {
     "name": "stdout",
     "output_type": "stream",
     "text": [
      "[[ 1.   2.5]\n",
      " [ 2.  -1. ]\n",
      " [ 1.5  3. ]\n",
      " [ 0.  -1.5]\n",
      " [-3.5  1. ]\n",
      " [ 2.5  0. ]\n",
      " [ 0.5  1.5]\n",
      " [ 0.  -2. ]]\n",
      "[1 0 1 0 1 0 0 0]\n",
      "0.4\n"
     ]
    }
   ],
   "source": [
    "# training data\n",
    "x_train = np.array([[1.0, 2.5], [2.0, -1.0], [1.5, 3.0],\n",
    "\t[0.0, -1.5], [-3.5, 1.0], [2.5, 0.0], [0.5, 1.5], [0.0, -2.0]])\n",
    "y_train = np.array([1, 0, 1, 0, 1, 0, 0, 0])\n",
    "\n",
    "print(x_train)\n",
    "print(y_train)\n",
    "print(lr)"
   ]
  },
  {
   "cell_type": "code",
   "execution_count": 4,
   "metadata": {},
   "outputs": [],
   "source": [
    "# class for a linear neuron\n",
    "class DiscretePerceptron(object):\n",
    "  def __init__(self):\n",
    "    self.w = tf.Variable(np.random.rand(2), dtype=tf.float64)\n",
    "    self.b = tf.Variable(0., dtype=tf.float64)\n",
    "\n",
    "  def __call__(self, x):\n",
    "    u = tf.tensordot(x ,self.w, axes=1) + self.b\n",
    "    y = tf.where(tf.greater(u, 0), 1, 0)\n",
    "    return u, y"
   ]
  },
  {
   "cell_type": "code",
   "execution_count": 5,
   "metadata": {},
   "outputs": [],
   "source": [
    "# funtion executing a training step\n",
    "def train_step(model, inputs, outputs, learning_rate):\n",
    "    _, predicted_outputs = model(inputs)\n",
    "    delta = tf.cast(outputs - predicted_outputs, tf.float64)\n",
    "    model.w.assign(model.w + learning_rate * delta * inputs)\n",
    "    model.b.assign(model.b + learning_rate * delta)"
   ]
  },
  {
   "cell_type": "code",
   "execution_count": 6,
   "metadata": {},
   "outputs": [
    {
     "name": "stdout",
     "output_type": "stream",
     "text": [
      "p: 1\n",
      "x: [1.5 3. ]\n",
      "d: 1\n",
      "u: 1.2192368129783235\n",
      "y: 1\n",
      "w: [0.77132064 0.02075195], b: 0.0\n",
      "p: 2\n",
      "x: [ 0. -2.]\n",
      "d: 0\n",
      "u: -0.041503898718803\n",
      "y: 0\n",
      "w: [0.77132064 0.02075195], b: 0.0\n",
      "p: 3\n",
      "x: [2.5 0. ]\n",
      "d: 0\n",
      "u: 1.928301608166865\n",
      "y: 1\n",
      "w: [-0.22867936  0.02075195], b: -0.4\n",
      "p: 4\n",
      "x: [0.5 1.5]\n",
      "d: 0\n",
      "u: -0.4832117543275248\n",
      "y: 0\n",
      "w: [-0.22867936  0.02075195], b: -0.4\n",
      "p: 5\n",
      "x: [-3.5  1. ]\n",
      "d: 1\n",
      "u: 0.42112969792579047\n",
      "y: 1\n",
      "w: [-0.22867936  0.02075195], b: -0.4\n",
      "p: 6\n",
      "x: [ 0.  -1.5]\n",
      "d: 0\n",
      "u: -0.4311279240391023\n",
      "y: 0\n",
      "w: [-0.22867936  0.02075195], b: -0.4\n",
      "p: 7\n",
      "x: [ 2. -1.]\n",
      "d: 0\n",
      "u: -0.8781106628259095\n",
      "y: 0\n",
      "w: [-0.22867936  0.02075195], b: -0.4\n",
      "p: 8\n",
      "x: [1.  2.5]\n",
      "d: 1\n",
      "u: -0.5767994833347503\n",
      "y: 0\n",
      "w: [0.17132064 1.02075195], b: 0.0\n",
      "iter: 1, error: 2\n",
      "iter: 2, error: 2\n",
      "iter: 3, error: 2\n",
      "iter: 4, error: 2\n",
      "iter: 5, error: 1\n",
      "iter: 6, error: 2\n",
      "iter: 7, error: 1\n",
      "iter: 8, error: 0\n",
      "iter: 9, error: 0\n",
      "iter: 10, error: 0\n",
      "iter: 11, error: 0\n",
      "iter: 12, error: 0\n",
      "iter: 13, error: 0\n",
      "iter: 14, error: 0\n",
      "iter: 15, error: 0\n",
      "iter: 16, error: 0\n",
      "iter: 17, error: 0\n",
      "iter: 18, error: 0\n",
      "iter: 19, error: 0\n",
      "iter: 20, error: 0\n",
      "iter: 21, error: 0\n",
      "iter: 22, error: 0\n",
      "iter: 23, error: 0\n",
      "iter: 24, error: 0\n",
      "iter: 25, error: 0\n",
      "iter: 26, error: 0\n",
      "iter: 27, error: 0\n",
      "iter: 28, error: 0\n",
      "iter: 29, error: 0\n",
      "iter: 30, error: 0\n"
     ]
    }
   ],
   "source": [
    "model = DiscretePerceptron()\n",
    "\n",
    "err = []\n",
    "idx = np.arange(len(x_train))\n",
    "for i in range(no_iters):\n",
    "    np.random.shuffle(idx)\n",
    "    x_train, y_train = x_train[idx], y_train[idx]\n",
    "    \n",
    "    err_ = 0\n",
    "    for p in np.arange(len(x_train)):\n",
    "        \n",
    "        u, y = model(x_train[p])\n",
    "        train_step(model, x_train[p], y_train[p], lr)\n",
    "        \n",
    "        err_ += (y.numpy() != y_train[p])\n",
    "\n",
    "        if (i == 0):\n",
    "            print('p: {}'.format(p+1))\n",
    "            print('x: {}'.format(x_train[p]))\n",
    "            print('d: {}'.format(y_train[p]))\n",
    "            print('u: {}'.format(u))\n",
    "            print('y: {}'.format(y))\n",
    "            print('w: {}, b: {}'.format(model.w.numpy(), model.b.numpy()))\n",
    "\n",
    "    err.append(err_)\n",
    "       \n",
    "    print('iter: {}, error: {}'.format(i+1, err[i]))\n",
    "        "
   ]
  },
  {
   "cell_type": "code",
   "execution_count": 7,
   "metadata": {},
   "outputs": [
    {
     "data": {
      "image/png": "[encoded data removed]",
      "text/plain": [
       "<Figure size 432x288 with 1 Axes>"
      ]
     },
     "metadata": {
      "needs_background": "light"
     },
     "output_type": "display_data"
    }
   ],
   "source": [
    "# plot the learning curves\n",
    "plt.figure(2)\n",
    "plt.plot(range(no_iters), err)\n",
    "plt.xlabel('epochs')\n",
    "plt.ylabel('classification error')\n",
    "plt.yticks([0, 1, 2])\n",
    "plt.savefig('./figures/3.1_2.png')"
   ]
  },
  {
   "cell_type": "code",
   "execution_count": 8,
   "metadata": {},
   "outputs": [
    {
     "name": "stdout",
     "output_type": "stream",
     "text": [
      "w: [-0.42867936  0.82075195], b: -1.6\n",
      "[1 1 0 1 0 0 0 0] [1, 1, 0, 1, 0, 0, 0, 0]\n"
     ]
    }
   ],
   "source": [
    "print('w: {}, b: {}'.format(model.w.numpy(), model.b.numpy()))\n",
    "\n",
    "# find predicctions\n",
    "pred = []\n",
    "for p in np.arange(len(x_train)):\n",
    "    _, y = model(x_train[p])\n",
    "    pred.append(y.numpy())\n",
    "print(y_train, pred)"
   ]
  },
  {
   "cell_type": "code",
   "execution_count": 9,
   "metadata": {},
   "outputs": [
    {
     "data": {
      "image/png": "[encoded data removed]",
      "text/plain": [
       "<Figure size 432x288 with 1 Axes>"
      ]
     },
     "metadata": {
      "needs_background": "light"
     },
     "output_type": "display_data"
    }
   ],
   "source": [
    "# plot the training data\n",
    "plt.figure(1)\n",
    "plt.plot(x_train[y_train==1,0], x_train[y_train==1,1],'bx', label ='class A')\n",
    "plt.plot(x_train[y_train==0,0],x_train[y_train==0,1],'ro', label='class B')\n",
    "plt.xlabel('$x_1$')\n",
    "plt.ylabel('$x_2$')\n",
    "plt.title('training data')\n",
    "plt.legend()\n",
    "plt.savefig('./figures/3.1_1.png')"
   ]
  },
  {
   "cell_type": "code",
   "execution_count": 10,
   "metadata": {},
   "outputs": [
    {
     "data": {
      "image/png": "[encoded data removed]",
      "text/plain": [
       "<Figure size 432x288 with 1 Axes>"
      ]
     },
     "metadata": {
      "needs_background": "light"
     },
     "output_type": "display_data"
    }
   ],
   "source": [
    "# plot the decision boundary\n",
    "x1 = np.arange(-4, 4, 0.1)\n",
    "x2 = -(x1*model.w[0] + model.b)/model.w[1]\n",
    "\n",
    "plt.figure(3)\n",
    "plt.plot(x_train[y_train==1,0], x_train[y_train==1,1],'bx', label ='class A')\n",
    "plt.plot(x_train[y_train==0,0],x_train[y_train==0,1],'ro', label='class B')\n",
    "plt.plot(x1, x2, '-')\n",
    "plt.xlabel('$x_1$')\n",
    "plt.ylabel('$x_2$')\n",
    "plt.title('decision boundary')\n",
    "plt.legend()\n",
    "plt.savefig('./figures/3.1_3.png')"
   ]
  },
  {
   "cell_type": "code",
   "execution_count": null,
   "metadata": {},
   "outputs": [],
   "source": []
  }
 ],
 "metadata": {
  "kernelspec": {
   "display_name": "Python 3",
   "language": "python",
   "name": "python3"
  },
  "language_info": {
   "codemirror_mode": {
    "name": "ipython",
    "version": 3
   },
   "file_extension": ".py",
   "mimetype": "text/x-python",
   "name": "python",
   "nbconvert_exporter": "python",
   "pygments_lexer": "ipython3",
   "version": "3.7.7"
  }
 },
 "nbformat": 4,
 "nbformat_minor": 4
}
