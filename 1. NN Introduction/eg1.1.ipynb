{
 "cells": [
  {
   "cell_type": "markdown",
   "metadata": {},
   "source": [
    "# Chapter 1, Example 1"
   ]
  },
  {
   "cell_type": "code",
   "execution_count": 1,
   "metadata": {},
   "outputs": [
    {
     "name": "stdout",
     "output_type": "stream",
     "text": [
      "2.3.0\n"
     ]
    }
   ],
   "source": [
    "# import tensorflow\n",
    "import tensorflow as tf\n",
    "\n",
    "print(tf.__version__)"
   ]
  },
  {
   "cell_type": "code",
   "execution_count": 13,
   "metadata": {},
   "outputs": [],
   "source": [
    "class Neuron():\n",
    "  def __init__(self):\n",
    "    self.w = tf.Variable([2.5, -0.2, 1.0], dtype=tf.float32)\n",
    "    self.b = tf.Variable(-0.5, tf.float32)\n",
    "\n",
    "  def __call__(self, x):\n",
    "    #summation function\n",
    "    u = tf.tensordot(self.w, x, axes=1) + self.b\n",
    "    \n",
    "    #activitation function\n",
    "    y = 0.8/(1+tf.exp(-1.2*u))\n",
    "    return u, y"
   ]
  },
  {
   "cell_type": "code",
   "execution_count": 14,
   "metadata": {},
   "outputs": [],
   "source": [
    "neuron = Neuron()"
   ]
  },
  {
   "cell_type": "code",
   "execution_count": 15,
   "metadata": {},
   "outputs": [
    {
     "name": "stdout",
     "output_type": "stream",
     "text": [
      "u: 0.600, y: 0.538\n"
     ]
    }
   ],
   "source": [
    "u, y = neuron([0.8, 2.0, -0.5])\n",
    "\n",
    "print('u: %.3f, y: %.3f'%(u, y))"
   ]
  },
  {
   "cell_type": "code",
   "execution_count": 16,
   "metadata": {},
   "outputs": [
    {
     "name": "stdout",
     "output_type": "stream",
     "text": [
      "u: -0.800, y: 0.222\n"
     ]
    }
   ],
   "source": [
    "u, y = neuron([-0.4, 1.5, 1.0])\n",
    "\n",
    "print('u: %.3f, y: %.3f'%(u, y))"
   ]
  }
 ],
 "metadata": {
  "kernelspec": {
   "display_name": "Python 3",
   "language": "python",
   "name": "python3"
  },
  "language_info": {
   "codemirror_mode": {
    "name": "ipython",
    "version": 3
   },
   "file_extension": ".py",
   "mimetype": "text/x-python",
   "name": "python",
   "nbconvert_exporter": "python",
   "pygments_lexer": "ipython3",
   "version": "3.8.6rc1"
  }
 },
 "nbformat": 4,
 "nbformat_minor": 2
}
