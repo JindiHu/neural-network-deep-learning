{
 "cells": [
  {
   "cell_type": "markdown",
   "metadata": {},
   "source": [
    "\n",
    "# Chapter 1, Example 2\n"
   ]
  },
  {
   "cell_type": "code",
   "execution_count": 20,
   "metadata": {},
   "outputs": [],
   "source": [
    "import numpy as np\n",
    "import tensorflow as tf"
   ]
  },
  {
   "cell_type": "code",
   "execution_count": 21,
   "metadata": {},
   "outputs": [],
   "source": [
    "class Neuron():\n",
    "  def __init__(self, weight, bias):\n",
    "    self.w = tf.Variable(weight, tf.float32)\n",
    "    self.b = tf.Variable(bias, tf.float32)\n",
    "\n",
    "  def __call__(self, x):\n",
    "    u = tf.tensordot(self.w, x, axes=1) + self.b\n",
    "    shape = tf.shape(u)\n",
    "    return tf.where(tf.greater(u, tf.zeros(shape)), tf.ones(shape), tf.zeros(shape))"
   ]
  },
  {
   "cell_type": "code",
   "execution_count": 22,
   "metadata": {},
   "outputs": [],
   "source": [
    "def network(input):\n",
    "    n1 = Neuron([1.0, 1.0], 1.0)\n",
    "    n2 = Neuron([1.0, 2.0], -1.0) \n",
    "    n3 = Neuron([-1.0, 1.0], 2.0) \n",
    "    n = Neuron([1.0, -1.0, 1.0], -1.5) \n",
    "\n",
    "    y1, y2, y3, = n1(input), n2(input), n3(input)\n",
    "    y = n([y1, y2, y3])\n",
    "    \n",
    "    return y1, y2, y3, y"
   ]
  },
  {
   "cell_type": "code",
   "execution_count": 23,
   "metadata": {},
   "outputs": [
    {
     "name": "stdout",
     "output_type": "stream",
     "text": [
      "tf.Tensor(1.0, shape=(), dtype=float32)\n",
      "tf.Tensor(0.0, shape=(), dtype=float32)\n",
      "tf.Tensor(1.0, shape=(), dtype=float32)\n",
      "tf.Tensor(-1.0, shape=(), dtype=float32)\n",
      "tf.Tensor(0.0, shape=(), dtype=float32)\n",
      "tf.Tensor(1.0, shape=(), dtype=float32)\n",
      "tf.Tensor(2.0, shape=(), dtype=float32)\n",
      "tf.Tensor(0.0, shape=(), dtype=float32)\n",
      "tf.Tensor(1.0, shape=(), dtype=float32)\n",
      "tf.Tensor(0.5, shape=(), dtype=float32)\n",
      "tf.Tensor(0.0, shape=(), dtype=float32)\n",
      "tf.Tensor(1.0, shape=(), dtype=float32)\n",
      "y1:1.0, y2:0.0, y3:1.0, y:1.0\n"
     ]
    }
   ],
   "source": [
    "y1, y2, y3, y = network([0.0, 0.0])\n",
    "print('y1:{}, y2:{}, y3:{}, y:{}'.format(y1, y2, y3, y))"
   ]
  },
  {
   "cell_type": "code",
   "execution_count": 5,
   "metadata": {},
   "outputs": [
    {
     "name": "stdout",
     "output_type": "stream",
     "text": [
      "y1:1.0, y2:1.0, y3:1.0, y:0.0\n"
     ]
    }
   ],
   "source": [
    "y1, y2, y3, y = network([2.0, 2.0])\n",
    "print('y1:{}, y2:{}, y3:{}, y:{}'.format(y1, y2, y3, y))"
   ]
  },
  {
   "cell_type": "code",
   "execution_count": 6,
   "metadata": {},
   "outputs": [
    {
     "name": "stdout",
     "output_type": "stream",
     "text": [
      "y1:1.0, y2:0.0, y3:1.0, y:1.0\n"
     ]
    }
   ],
   "source": [
    "y1, y2, y3, y = network([-1.0, 1.0])\n",
    "print('y1:{}, y2:{}, y3:{}, y:{}'.format(y1, y2, y3, y))"
   ]
  }
 ],
 "metadata": {
  "kernelspec": {
   "display_name": "Python 3",
   "language": "python",
   "name": "python3"
  },
  "language_info": {
   "codemirror_mode": {
    "name": "ipython",
    "version": 3
   },
   "file_extension": ".py",
   "mimetype": "text/x-python",
   "name": "python",
   "nbconvert_exporter": "python",
   "pygments_lexer": "ipython3",
   "version": "3.7.6"
  }
 },
 "nbformat": 4,
 "nbformat_minor": 4
}
